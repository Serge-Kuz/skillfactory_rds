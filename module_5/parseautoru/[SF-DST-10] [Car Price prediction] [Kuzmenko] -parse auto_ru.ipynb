{
 "metadata": {
  "language_info": {
   "codemirror_mode": {
    "name": "ipython",
    "version": 3
   },
   "file_extension": ".py",
   "mimetype": "text/x-python",
   "name": "python",
   "nbconvert_exporter": "python",
   "pygments_lexer": "ipython3",
   "version": "3.7.4-final"
  },
  "orig_nbformat": 2,
  "kernelspec": {
   "name": "python_defaultSpec_1599467419805",
   "display_name": "Python 3.7.4 64-bit ('base': conda)"
  }
 },
 "nbformat": 4,
 "nbformat_minor": 2,
 "cells": [
  {
   "cell_type": "code",
   "execution_count": 2,
   "metadata": {},
   "outputs": [],
   "source": [
    "# Импортируем наши библиотеки\n",
    "import numpy as np  \n",
    "import socket\n",
    "from selenium import webdriver    \n",
    "from bs4 import BeautifulSoup    \n",
    "import requests    \n",
    "import os\n",
    "import pandas as pd \n",
    "pd.set_option('display.max_rows', 500)\n",
    "from selenium.webdriver.support.ui import WebDriverWait as wait\n",
    "from tqdm import tqdm\n",
    "import random\n",
    "import time\n",
    "import pickle\n",
    "from pandas_profiling import ProfileReport\n",
    "from  pprint import pprint\n",
    "import json\n",
    "import traceback\n",
    "from static_variables import resolve_static\n",
    "import threading\n",
    "\n",
    "PAGE_SELECTOR = '*CURRENT_PAGE*'\n",
    "headers={'User-Agent': 'Mozilla/5.0 (Windows NT 10.0; Win64; x64) AppleWebKit/537.36 (KHTML, like Gecko) Chrome/84.0.4147.135 Safari/537.36'}\n",
    "regions_urls = ['https://auto.ru/moskva/cars/bmw/used/',\n",
    "                'https://auto.ru/sankt-peterburg/cars/bmw/used/',\n",
    "                'https://auto.ru/krasnodarskiy_kray/cars/bmw/used/',\n",
    "                'https://auto.ru/rostovskaya_oblast/cars/bmw/used/',\n",
    "                'https://auto.ru/sverdlovskaya_oblast/cars/bmw/used/',\n",
    "                'https://auto.ru/tatarstan/cars/bmw/used/',\n",
    "                'https://auto.ru/nizhegorodskaya_oblast/cars/bmw/used/',\n",
    "                'https://auto.ru/chelyabinskaya_oblast/cars/bmw/used/',\n",
    "                'https://auto.ru/samarskaya_oblast/cars/bmw/used/',\n",
    "                'https://auto.ru/bashkortostan/cars/bmw/used/',\n",
    "                'https://auto.ru/permskiy_kray/cars/bmw/used/',\n",
    "                'https://auto.ru/krasnoyarskiy_kray/cars/bmw/used/',\n",
    "                'https://auto.ru/voronezhskaya_oblast/cars/bmw/used/',\n",
    "                'https://auto.ru/belgorodskaya_oblast/cars/bmw/used/',\n",
    "                'https://auto.ru/kurskaya_oblast/cars/bmw/used/'\n",
    "                ]\n",
    "\n",
    "# car_page_templates = [f'https://auto.ru/moskva/cars/bmw/used/?page={PAGE_SELECTOR}&output_type=list',\n",
    "#                       f'https://auto.ru/sankt-peterburg/cars/bmw/used/?page={PAGE_SELECTOR}&output_type=list']\n",
    "car_page_templates = [x+f'?page={PAGE_SELECTOR}&output_type=list' for x in regions_urls]\n",
    "\n",
    "CARS_A_LIST=[]\n",
    "RANDOM_SEED = 20726\n",
    "CURRENT_DATE = pd.to_datetime('01/01/2020')\n",
    "PATH_TO_LINKS_FILE = 'C:/Users/xxx/SF/SkillFactory/car_links_04.txt'\n",
    "PATH_TO_JSON_FILE = 'C:/Users/xxx/SF/SkillFactory/car_links_cars_04.txt'\n",
    "dir_name = 'C:/Users/xxx/SF/SkillFactory/data/kagle/sf-dst-auto'\n",
    "file_name = 'test.csv'\n",
    "path_to_dataset = os.path.join(dir_name, file_name)"
   ]
  },
  {
   "cell_type": "code",
   "execution_count": 4,
   "metadata": {},
   "outputs": [],
   "source": [
    "def get_requested_soup_by_url(url, proxiesIN=[], n=3, debug=False):\n",
    "    '''\n",
    "    Супчик по url\n",
    "    Можно использовать список прокси [{'IP': '206.127.88.18', 'Port': 80}, ...]\n",
    "    Делает 3 попытки для соединения без прокси и количество попыток с прокси равное к-ву прокси + 3 без прокси\n",
    "    '''\n",
    "    if debug: print('N-->', n)\n",
    "    if n<=0:   \n",
    "        return BeautifulSoup('', 'html.parser')\n",
    "\n",
    "    if (len(proxiesIN) > 0): #если работаем через прокси\n",
    "        i = random.randint(0, len(proxiesIN)-1)\n",
    "        prox = proxiesIN[i]['IP'] + ':' + str(proxiesIN[i]['Port'])\n",
    "        proxies = {\n",
    "            'http': 'http://' + prox,\n",
    "            'https': 'http://' +prox,\n",
    "            }\n",
    "\n",
    "        try:\n",
    "            if debug: print('-->', 0)\n",
    "            response = requests.get(url, headers=headers, proxies=proxies, timeout=(1, 3))\n",
    "            if debug: print('-->', 1)\n",
    "            if response.status_code != 200:\n",
    "                if debug: print('-->', 2)\n",
    "                time.sleep(.5)\n",
    "                return get_requested_soup_by_url(url,proxiesIN, n=n-1)               \n",
    "        except:\n",
    "            if debug: print('-->', 4)\n",
    "            del(proxiesIN[i])\n",
    "            time.sleep(.5)\n",
    "            return get_requested_soup_by_url(url,proxiesIN) \n",
    "              \n",
    "    else: #если работаем без прокси\n",
    "        try:\n",
    "            if debug: print('-->', 6)\n",
    "            time.sleep(.5)\n",
    "            response = requests.get(url, headers=headers, timeout=(1, 3))\n",
    "            if response.status_code != 200:\n",
    "                time.sleep(.5)\n",
    "                if debug: print('-->', 7)\n",
    "                return get_requested_soup_by_url(url, n=n-1)\n",
    "                \n",
    "        except:\n",
    "            if debug: print('-->', 9)\n",
    "            time.sleep(.5)\n",
    "            return get_requested_soup_by_url(url, n=n-1) \n",
    "\n",
    "    if debug: print('-->', 10)  \n",
    "    response.encoding = 'utf-8'\n",
    "    \n",
    "    return BeautifulSoup(response.text, 'html.parser')\n",
    "    #----------------------------------------------------------------------------------\n",
    "      \n",
    "\n",
    "def is_port_open(ip,port):\n",
    "    '''\n",
    "    Проверяет открыт ли порт - используется для первичной проверки доступности proxy\n",
    "    '''\n",
    "    s = socket.socket(socket.AF_INET, socket.SOCK_STREAM)\n",
    "    try:\n",
    "        s.connect((ip, int(port)))\n",
    "        s.shutdown(2)\n",
    "        return True\n",
    "    except Exception as e:\n",
    "            print('Ошибка:\\n', traceback.format_exc())\n",
    "            return False\n",
    "#----------------------------------------------------------------------------------\n",
    "    \n",
    "def get_free_proxies(top=10):\n",
    "    '''\n",
    "    Возвращает список активных free proxy\n",
    "    По умолчанию проверяем top 10, вернуть может меньше\n",
    "    [{'IP': '206.127.88.18', 'Port': 80}]\n",
    "    '''\n",
    "    tested_proxies=[]\n",
    "    resp = requests.get('https://scrapingant.com/free-proxies/', headers=headers) \n",
    "    proxies = pd.read_html(resp.text)[0]\n",
    "    proxies = proxies[proxies.Protocol == 'HTTP'].head(top)\n",
    "    proxies = proxies[['Ip', 'Port' ]]\n",
    "    for proxy in tqdm(proxies.iterrows()):\n",
    "\n",
    "        if is_port_open(proxy[1]['Ip'], proxy[1]['Port']) == True:          \n",
    "            tested_proxies.append({'IP' : proxy[1]['Ip'], \"Port\" : proxy[1]['Port']})\n",
    "\n",
    "    return tested_proxies\n",
    "#----------------------------------------------------------------------------------\n",
    "    \n",
    "def get_pages_count(cars_pageN_soup):\n",
    "    '''\n",
    "    Возвращает количество страниц объявлений по запросу\n",
    "    Принимает soup по по URL\n",
    "    '''\n",
    "    pages_count=0\n",
    "    list_of_pages = cars_pageN_soup.find_all('a', href=True, class_='Button Button_color_whiteHoverBlue Button_size_s Button_type_link Button_width_default ListingPagination-module__page')\n",
    "\n",
    "    if len(list_of_pages) == 0:\n",
    "        pages_count = 1\n",
    "    else:\n",
    "        pages_count = int(list_of_pages[-1].find('span', class_='Button__text').text)\n",
    "        \n",
    "    return pages_count  \n",
    "#----------------------------------------------------------------------------------\n",
    "    \n",
    "def get_cars_A_from_page(URL, page_number, proxies):\n",
    "    '''\n",
    "    Получаем список ссылок на объявления на page_number-странице, по шаблону URL \n",
    "    '''\n",
    "    page_cars_A =[]\n",
    "    url = URL.replace(PAGE_SELECTOR,str(page_number))\n",
    "    #print('url--->', url)\n",
    "    pageN = get_requested_soup_by_url(url, proxies, debug=False)\n",
    "    cars_a = pageN.find_all('a', href=True, class_='Link ListingItemThumb')\n",
    "\n",
    "    for car_a in cars_a:\n",
    "            page_cars_A.append(car_a['href'])\n",
    "\n",
    "    return page_cars_A\n",
    "#----------------------------------------------------------------------------------\n",
    "    \n",
    "def get_cars_A_all(proxies_in=[]):\n",
    "    '''\n",
    "    Получаем все ссылки на объявления \n",
    "    '''\n",
    "    cars_A_all = []\n",
    "    cars_pages=0\n",
    "    for cityN in tqdm(range(0, len(regions_urls))):\n",
    "        if cityN ==0:\n",
    "            cars_pages = 146 #затычка для Москвы\n",
    "        else:\n",
    "            #time.sleep(.2)\n",
    "            cars_pages = get_pages_count(get_requested_soup_by_url(regions_urls[cityN], proxies_in, debug=False))\n",
    "        print('------')\n",
    "        print('city-->',cityN, 'cars_pages-->',cars_pages)\n",
    "        for pageN in tqdm(range(1, cars_pages+1)):\n",
    "            page_cars_A = get_cars_A_from_page(car_page_templates[cityN],pageN, proxies_in)\n",
    "            \n",
    "            cars_A_all.extend(page_cars_A)\n",
    "            print('page_cars_A-->', len(page_cars_A), 'cars_A_all-->', len(cars_A_all) )\n",
    "\n",
    "    return cars_A_all  "
   ]
  },
  {
   "cell_type": "code",
   "execution_count": 5,
   "metadata": {},
   "outputs": [],
   "source": [
    "'''\n",
    "Карточка автомобиля\n",
    "'''\n",
    "\n",
    "class Car(object):\n",
    "   \n",
    "    def __init__(self, brand, productionDate, modelDate, mileage, bodyType, color, config, tax\n",
    "                        ,vehicleTransmission, driving_gear, driving_side, condition, ownersN, PTS, customs_status\n",
    "                        ,VIN, vehicleConfiguration, engineDisplacement, enginePower, fuelType\n",
    "                        ,name, description, options, price,numberOfDoors, url_in, owningTime ):\n",
    "        self.brand = brand\n",
    "        self.productionDate = productionDate\n",
    "        self.modelDate = modelDate\n",
    "        self.mileage = mileage\n",
    "        self.bodyType = bodyType\n",
    "        self.color = color\n",
    "        self.config = config\n",
    "        self.tax = tax\n",
    "        self.vehicleTransmission = vehicleTransmission\n",
    "        self.driving_gear = driving_gear\n",
    "        self.driving_side = driving_side\n",
    "        self.condition = condition\n",
    "        self.ownersN = ownersN\n",
    "        self.PTS = PTS\n",
    "        self.customs_status = customs_status\n",
    "        self.VIN = VIN\n",
    "        self.vehicleConfiguration = vehicleConfiguration\n",
    "        self.engineDisplacement = engineDisplacement\n",
    "        self.enginePower = enginePower\n",
    "        self.fuelType = fuelType\n",
    "        self.name = name\n",
    "        self.description = description\n",
    "        self.options = options\n",
    "        self.price = price\n",
    "        self.numberOfDoors = numberOfDoors\n",
    "        self.url = url\n",
    "        self.owningTime = owningTime\n",
    "#----------------------------------------------------------------------------------\n",
    "    \n",
    "    def to_dict(self):\n",
    "        '''\n",
    "        Получаем карточку автомобиля в виде подобном test\n",
    "        '''\n",
    "        return {\n",
    "            \n",
    "            'bodyType': self.bodyType,\n",
    "            'brand': self.brand,\n",
    "            'color': self.color,\n",
    "            'fuelType': self.fuelType,\n",
    "            'modelDate': self.modelDate,\n",
    "            'name': self.name,\n",
    "            'numberOfDoors': self.numberOfDoors,\n",
    "            'productionDate': self.productionDate,\n",
    "            'vehicleConfiguration': self.vehicleConfiguration,\n",
    "            'vehicleTransmission': self.vehicleTransmission,\n",
    "            'engineDisplacement': self.engineDisplacement,\n",
    "            'enginePower': self.enginePower,\n",
    "            'description': self.description,\n",
    "            'mileage': self.mileage,\n",
    "            'Комплектация': self.options,\n",
    "            'Привод': self.driving_gear,\n",
    "            'Руль': self.driving_side,\n",
    "            'Состояние': self.condition,\n",
    "            'Владельцы': self.ownersN,\n",
    "            'ПТС': self.PTS,\n",
    "            'Таможня': self.customs_status,\n",
    "            'Владение': self.owningTime,\n",
    "            'id': np.nan,\n",
    "            'url': self.url,\n",
    "            'price': self.price\n",
    "        }"
   ]
  },
  {
   "cell_type": "code",
   "execution_count": 6,
   "metadata": {},
   "outputs": [],
   "source": [
    "\n",
    "class Car_Reader(object):\n",
    "    '''\n",
    "    Класс получения карточки автомобиля с прокси или без (передать пустой список)\n",
    "    '''\n",
    "\n",
    "    def __init__(self, car_url, proxies):\n",
    "        self.url = car_url\n",
    "        self.proxies = proxies\n",
    "        self.retry_later_url = ''\n",
    "    #----------------------------------------------------------------------------------\n",
    "        \n",
    "    def _toInt(self, s):\n",
    "        '''\n",
    "        Строка в int, убираем &nbsp; в числе, например 8 500->8500\n",
    "        '''\n",
    "        val = np.nan\n",
    "        try: \n",
    "            s = s.replace('\\xa0','')\n",
    "            val = int(s)\n",
    "        except Exception as e:\n",
    "            print('Ошибка:\\n', traceback.format_exc())\n",
    "        return s#val\n",
    "    #----------------------------------------------------------------------------------\n",
    "\n",
    "    def _str2int(self, s_in):\n",
    "        '''\n",
    "        Получаем число из строки,отбросив текст \n",
    "        '''\n",
    "        s=''\n",
    "        try:\n",
    "            s = s_in.replace('\\xa0','').replace('км','').replace('₽ / год','').replace('₽','')\n",
    "        except Exception as e:\n",
    "            print('Ошибка:\\n', traceback.format_exc())\n",
    "            return np.nan\n",
    "        return self._toInt(s)\n",
    "    #----------------------------------------------------------------------------------\n",
    "\n",
    "    def _parse_description(self, descr):\n",
    "        '''\n",
    "        Получаем описание автомобиля в виде одной стоки \n",
    "        '''\n",
    "        desciption=''\n",
    "        try:\n",
    "            descr_soup = descr.contents\n",
    "            descr_items = len(descr_soup)\n",
    "            descr.contents\n",
    "            for i in range(0, descr_items):\n",
    "                desciption += str(descr_soup[i]).replace('<br/>', ' ')\n",
    "        except:\n",
    "            pass\n",
    "        return desciption\n",
    "    #----------------------------------------------------------------------------------\n",
    "\n",
    "    def _get_car_options_packs(self, car_page):\n",
    "        '''\n",
    "        Получаем список опциональных пакетов и их содержимое \n",
    "        '''\n",
    "        options_packs_list=[]\n",
    "        try:\n",
    "            options_packs = ''\n",
    "            options_packs_count = len(car_page.find_all('div')[1].find('div', class_='content').find_all('div', class_='CardComplectation__itemContentWrap'))\n",
    "            options_packs_block = car_page.find_all('div')[1].find('div', class_='content').find_all('div', class_='CardComplectation__itemContentWrap')\n",
    "            \n",
    "            for pack_indx in range(0, options_packs_count):\n",
    "                pack_name = options_packs_block[pack_indx].parent.find('span', class_='CardComplectation__itemName').text\n",
    "                pack_option_dict = {'name': pack_name,\n",
    "                                    'values': []}\n",
    "                pack_option_list = []\n",
    "\n",
    "                options_count = len(options_packs_block[pack_indx].find_all('li', class_='CardComplectation__itemContentEl'))\n",
    "                for option_indx in range(0, options_count):\n",
    "                    pack_option_list.append(options_packs_block[pack_indx]\n",
    "                                            .find_all('li', class_='CardComplectation__itemContentEl')[option_indx]\n",
    "                                            .text)\n",
    "\n",
    "                pack_option_dict['values'] = pack_option_list\n",
    "                options_packs_list.append(pack_option_dict)\n",
    "                options_packs = str(options_packs_list).replace(\"'\", '\"')\n",
    "                options_packs = \"[\\'\"+ options_packs + \"\\']\"\n",
    "        except:\n",
    "            pass #проглотим исключение, с ним нечего делать\n",
    "\n",
    "        return options_packs\n",
    "    #----------------------------------------------------------------------------------\n",
    "\n",
    "    def _safe_run(self, str, car_page_in):\n",
    "        '''\n",
    "        Функция-обертка для \"проглатывания\" исключений.\n",
    "        Не все поля у объявления могут быть заполнены, чтоб не терять все объявление оборачиваем в обертку каждое поле.\n",
    "        '''\n",
    "        car_page = car_page_in\n",
    "        try:\n",
    "            return eval(str)\n",
    "        except Exception as e:\n",
    "            #traceback.format_exc(),\n",
    "            print(' Ошибка отработана:\\n', '---> ', str, ' <---')\n",
    "            return np.nan\n",
    "    #----------------------------------------------------------------------------------\n",
    "    \n",
    "    def _metadata_to_dict(self, meta):\n",
    "        '''\n",
    "        Преобразование метадатнных в словарь\n",
    "        '''\n",
    "        data={}\n",
    "        for m in meta:\n",
    "            try:\n",
    "                data[m.get('itemprop')] = m.get('content')\n",
    "            except:\n",
    "                pass\n",
    "        return data\n",
    "    #---------------------------------------------------------------------------------- \n",
    "      \n",
    "    def get_car_data(self, retries=2 ):\n",
    "        '''\n",
    "        Получаем все характеристики авто из объявления\n",
    "        Возвращает класс Car описывающий машину\n",
    "        '''\n",
    "        \n",
    "        url_in = self.url.strip()\n",
    "        proxies_in = self.proxies\n",
    "        car = Car(np.nan,np.nan,np.nan,np.nan,np.nan,np.nan,np.nan,np.nan\n",
    "                    ,np.nan,np.nan,np.nan,np.nan,np.nan,np.nan,np.nan,np.nan\n",
    "                    ,np.nan,np.nan,np.nan,np.nan,np.nan,np.nan,np.nan,np.nan\n",
    "                    ,np.nan, np.nan, np.nan)        \n",
    "\n",
    "        try:\n",
    "\n",
    "            car_page = get_requested_soup_by_url(url_in, proxies_in)\n",
    "            if car_page == None: return car\n",
    "\n",
    "            metadata = self._metadata_to_dict(car_page.find('span', itemscope='', itemtype='http://schema.org/Car').find_all('meta'))\n",
    "            #time.sleep(.5)\n",
    "            \n",
    "            productionDate = metadata.get('productionDate', '')\n",
    "\n",
    "            brand = metadata.get('brand', '')\n",
    "\n",
    "            mileage = self._safe_run(\n",
    "                \"self._str2int(car_page.find('li', class_='CardInfo__row CardInfo__row_kmAge').find_all('span', class_='CardInfo__cell')[1].text)\"\n",
    "                , car_page)\n",
    "\n",
    "            bodyType = metadata.get('bodyType', '')\n",
    "\n",
    "            numberOfDoors = metadata.get('numberOfDoors', '') \n",
    "\n",
    "            color = metadata.get('color', '')\n",
    "\n",
    "            config = metadata.get('vehicleConfiguration', '')\n",
    "\n",
    "            tax = self._safe_run(\n",
    "                \"self._str2int(car_page.find('li', class_='CardInfo__row CardInfo__row_transportTax').find_all('span', class_='CardInfo__cell')[1].text)\"\n",
    "                , car_page)\n",
    "\n",
    "            vehicleTransmission = metadata.get('vehicleTransmission', '')\n",
    "\n",
    "            driving_gear = self._safe_run(\n",
    "                \"car_page.find('li', class_='CardInfo__row CardInfo__row_drive').find_all('span', class_='CardInfo__cell')[1].text\"\n",
    "                , car_page)\n",
    "\n",
    "            driving_side = self._safe_run(\n",
    "                \"car_page.find('li', class_='CardInfo__row CardInfo__row_wheel').find_all('span', class_='CardInfo__cell')[1].text\"\n",
    "                , car_page)\n",
    "\n",
    "            condition = self._safe_run(\n",
    "                \"car_page.find('li', class_='CardInfo__row CardInfo__row_state').find_all('span', class_='CardInfo__cell')[1].text\"\n",
    "                , car_page)\n",
    "\n",
    "            ownersN = self._safe_run(\n",
    "                \"car_page.find('li', class_='CardInfo__row CardInfo__row_ownersCount').find_all('span', class_='CardInfo__cell')[1].text\"\n",
    "                , car_page)\n",
    "\n",
    "            PTS = self._safe_run(\n",
    "                \"car_page.find('li', class_='CardInfo__row CardInfo__row_pts').find_all('span', class_='CardInfo__cell')[1].text\"\n",
    "                , car_page)\n",
    "\n",
    "            owningTime = self._safe_run(\n",
    "                \"car_page.find('li', class_='CardInfo__row CardInfo__row_owningTime').find_all('span', class_='CardInfo__cell')[1].text\"\n",
    "                , car_page)\n",
    "\n",
    "            customs_status = self._safe_run(\n",
    "                \"car_page.find('li', class_='CardInfo__row CardInfo__row_customs').find_all('span', class_='CardInfo__cell')[1].text\"\n",
    "                , car_page)\n",
    "\n",
    "            VIN = self._safe_run(\n",
    "                \"car_page.find('li', class_='CardInfo__row CardInfo__row_vin').find_all('span', class_='CardInfo__cell')[1].text[0:3]\"\n",
    "                , car_page)\n",
    "\n",
    "            vehicleConfiguration = metadata.get('vehicleConfiguration', '') \n",
    "\n",
    "            if car_page.find_all('div')[1].find('div', class_='content').find('div', class_='CardComplectation__titleWrap') is not None:\n",
    "                vehicleConfiguration = self._safe_run(\n",
    "                    \"car_page.find_all('div')[1].find('div', class_='content').find('div', class_='CardComplectation__titleWrap').text.replace('Комплектация','')\"\n",
    "                    , car_page)\n",
    "\n",
    "            engineDisplacement = metadata.get('engineDisplacement', '')\n",
    "\n",
    "            enginePower = metadata.get('enginePower', '')\n",
    "\n",
    "            modelDate = metadata.get('modelDate', '')\n",
    "\n",
    "            fuelType = metadata.get('fuelType', '')\n",
    "\n",
    "            name = self._safe_run(\n",
    "                \"car_page.find_all('h1')[0].find_all('meta', itemprop='name')[-1].get('content')\"\n",
    "                , car_page)\n",
    "            \n",
    "            options =self._get_car_options_packs(car_page)\n",
    "\n",
    "            image = metadata.get('image', '')\n",
    "\n",
    "            price = metadata.get('price', '')\n",
    "\n",
    "            description = metadata.get('description', '')\n",
    "            # description1 = self._parse_description(\n",
    "            #     self._safe_run(\n",
    "            #         \"car_page.find_all('div')[1].find('div', class_='content').contents[1].find('div', class_='CardDescription__textInner').contents[0]\"\n",
    "            #         , car_page))\n",
    "\n",
    "            car = Car(brand, productionDate, modelDate, mileage, bodyType, color, config, tax\n",
    "                        ,vehicleTransmission, driving_gear, driving_side, condition, ownersN, PTS, customs_status\n",
    "                        ,VIN, vehicleConfiguration, engineDisplacement, enginePower, fuelType\n",
    "                        ,name, description,  options,   price,numberOfDoors, url_in, owningTime)\n",
    "\n",
    "        except Exception as e:\n",
    "            print('Ошибка:\\n', traceback.format_exc())\n",
    "            self.retry_later_url = url_in.strip()\n",
    "\n",
    "        finally:\n",
    "            self.retry_later_url = ''\n",
    "            return car\n"
   ]
  },
  {
   "cell_type": "code",
   "execution_count": 7,
   "metadata": {
    "tags": []
   },
   "outputs": [],
   "source": [
    "class Scrapper(threading.Thread):\n",
    "    '''\n",
    "    Загружаем ПАРАЛЛЕЛЬНО несколько карточек\n",
    "    '''\n",
    "    def __init__(self, threadId, name, url, proxies_in):\n",
    "        threading.Thread.__init__(self)\n",
    "        self.name = name\n",
    "        self.id = threadId\n",
    "        self.url = url\n",
    "        self.proxies = proxies_in\n",
    "    def run(self):\n",
    "        # Пример закомментирован и специально оставлен! \n",
    "        # r = requests.get(self.url)\n",
    "        # soup = BeautifulSoup(r.content, 'html.parser')\n",
    "        # links = soup.find_all(\"a\")\n",
    "\n",
    "        car = Car_Reader(url, proxies)\n",
    "        res = car.get_car_data().to_dict()\n",
    "        return res"
   ]
  },
  {
   "cell_type": "markdown",
   "metadata": {},
   "source": [
    "### кэшируем проверенные на данный момент живые прокси  "
   ]
  },
  {
   "cell_type": "code",
   "execution_count": 8,
   "metadata": {
    "tags": []
   },
   "outputs": [
    {
     "output_type": "stream",
     "name": "stderr",
     "text": "2it [00:21, 10.53s/it]Ошибка:\n Traceback (most recent call last):\n  File \"<ipython-input-4-570a2d25976d>\", line 61, in is_port_open\n    s.connect((ip, int(port)))\nTimeoutError: [WinError 10060] A connection attempt failed because the connected party did not properly respond after a period of time, or established connection failed because connected host has failed to respond\n\n6it [00:42,  9.98s/it]Ошибка:\n Traceback (most recent call last):\n  File \"<ipython-input-4-570a2d25976d>\", line 61, in is_port_open\n    s.connect((ip, int(port)))\nTimeoutError: [WinError 10060] A connection attempt failed because the connected party did not properly respond after a period of time, or established connection failed because connected host has failed to respond\n\n10it [01:21,  9.82s/it]Ошибка:\n Traceback (most recent call last):\n  File \"<ipython-input-4-570a2d25976d>\", line 61, in is_port_open\n    s.connect((ip, int(port)))\nTimeoutError: [WinError 10060] A connection attempt failed because the connected party did not properly respond after a period of time, or established connection failed because connected host has failed to respond\n\n12it [01:43, 11.18s/it]Ошибка:\n Traceback (most recent call last):\n  File \"<ipython-input-4-570a2d25976d>\", line 61, in is_port_open\n    s.connect((ip, int(port)))\nTimeoutError: [WinError 10060] A connection attempt failed because the connected party did not properly respond after a period of time, or established connection failed because connected host has failed to respond\n\n21it [01:44,  4.98s/it]\n"
    }
   ],
   "source": [
    "proxies = get_free_proxies(50)# прокси кэшируем\n"
   ]
  },
  {
   "cell_type": "code",
   "execution_count": 10,
   "metadata": {},
   "outputs": [
    {
     "output_type": "execute_result",
     "data": {
      "text/plain": "17"
     },
     "metadata": {},
     "execution_count": 10
    }
   ],
   "source": [
    "len(proxies)"
   ]
  },
  {
   "cell_type": "code",
   "execution_count": 10,
   "metadata": {
    "tags": [
     "outputPrepend"
    ]
   },
   "outputs": [
    {
     "output_type": "stream",
     "name": "stderr",
     "text": "--> 38 cars_A_all--> 4255\n\n 86%|████████▋ | 126/146 [10:06<01:22,  4.15s/it]\u001b[Apage_cars_A--> 38 cars_A_all--> 4293\n\n 87%|████████▋ | 127/146 [10:11<01:25,  4.50s/it]\u001b[Apage_cars_A--> 38 cars_A_all--> 4331\n\n 88%|████████▊ | 128/146 [10:16<01:19,  4.44s/it]\u001b[Apage_cars_A--> 38 cars_A_all--> 4369\n\n 88%|████████▊ | 129/146 [10:19<01:11,  4.21s/it]\u001b[Apage_cars_A--> 38 cars_A_all--> 4407\n\n 89%|████████▉ | 130/146 [10:23<01:04,  4.03s/it]\u001b[Apage_cars_A--> 38 cars_A_all--> 4445\n\n 90%|████████▉ | 131/146 [10:27<01:01,  4.12s/it]\u001b[Apage_cars_A--> 38 cars_A_all--> 4483\n\n 90%|█████████ | 132/146 [10:32<01:01,  4.42s/it]\u001b[Apage_cars_A--> 38 cars_A_all--> 4521\n\n 91%|█████████ | 133/146 [10:37<00:57,  4.45s/it]\u001b[Apage_cars_A--> 38 cars_A_all--> 4559\n\n 92%|█████████▏| 134/146 [10:41<00:51,  4.26s/it]\u001b[Apage_cars_A--> 38 cars_A_all--> 4597\n\n 92%|█████████▏| 135/146 [10:44<00:44,  4.02s/it]\u001b[Apage_cars_A--> 38 cars_A_all--> 4635\n\n 93%|█████████▎| 136/146 [10:48<00:38,  3.86s/it]\u001b[Apage_cars_A--> 37 cars_A_all--> 4672\n\n 94%|█████████▍| 137/146 [10:52<00:35,  3.96s/it]\u001b[Apage_cars_A--> 38 cars_A_all--> 4710\n\n 95%|█████████▍| 138/146 [10:55<00:31,  3.89s/it]\u001b[Apage_cars_A--> 38 cars_A_all--> 4748\n\n 95%|█████████▌| 139/146 [10:59<00:25,  3.69s/it]\u001b[Apage_cars_A--> 38 cars_A_all--> 4786\n\n 96%|█████████▌| 140/146 [11:03<00:22,  3.74s/it]\u001b[Apage_cars_A--> 38 cars_A_all--> 4824\n\n 97%|█████████▋| 141/146 [11:06<00:18,  3.75s/it]\u001b[Apage_cars_A--> 38 cars_A_all--> 4862\n\n 97%|█████████▋| 142/146 [11:10<00:15,  3.81s/it]\u001b[Apage_cars_A--> 37 cars_A_all--> 4899\n\n 98%|█████████▊| 143/146 [11:15<00:11,  3.96s/it]\u001b[Apage_cars_A--> 38 cars_A_all--> 4937\n\n 99%|█████████▊| 144/146 [11:18<00:07,  3.94s/it]\u001b[Apage_cars_A--> 38 cars_A_all--> 4975\n\n 99%|█████████▉| 145/146 [11:23<00:04,  4.12s/it]\u001b[Apage_cars_A--> 38 cars_A_all--> 5013\n\n100%|██████████| 146/146 [11:27<00:00,  4.71s/it]\n  7%|▋         | 1/15 [11:27<2:40:19, 687.08s/it]page_cars_A--> 37 cars_A_all--> 5050\n\n  0%|          | 0/42 [00:00<?, ?it/s]\u001b[A------\ncity--> 1 cars_pages--> 42\n\n  2%|▏         | 1/42 [00:03<02:30,  3.67s/it]\u001b[Apage_cars_A--> 38 cars_A_all--> 5088\n\n  5%|▍         | 2/42 [00:08<02:44,  4.12s/it]\u001b[Apage_cars_A--> 38 cars_A_all--> 5126\n\n  7%|▋         | 3/42 [00:13<02:49,  4.34s/it]\u001b[Apage_cars_A--> 38 cars_A_all--> 5164\n\n 10%|▉         | 4/42 [00:17<02:39,  4.19s/it]\u001b[Apage_cars_A--> 38 cars_A_all--> 5202\n\n 12%|█▏        | 5/42 [00:20<02:25,  3.93s/it]\u001b[Apage_cars_A--> 37 cars_A_all--> 5239\n\n 14%|█▍        | 6/42 [00:23<02:12,  3.68s/it]\u001b[Apage_cars_A--> 37 cars_A_all--> 5276\n\n 17%|█▋        | 7/42 [00:27<02:03,  3.52s/it]\u001b[Apage_cars_A--> 37 cars_A_all--> 5313\n\n 19%|█▉        | 8/42 [00:30<01:57,  3.47s/it]\u001b[Apage_cars_A--> 37 cars_A_all--> 5350\n\n 21%|██▏       | 9/42 [00:33<01:48,  3.30s/it]\u001b[Apage_cars_A--> 37 cars_A_all--> 5387\n\n 24%|██▍       | 10/42 [00:36<01:43,  3.24s/it]\u001b[Apage_cars_A--> 37 cars_A_all--> 5424\n\n 26%|██▌       | 11/42 [00:39<01:42,  3.30s/it]\u001b[Apage_cars_A--> 37 cars_A_all--> 5461\n\n 29%|██▊       | 12/42 [00:42<01:36,  3.23s/it]\u001b[Apage_cars_A--> 37 cars_A_all--> 5498\n\n 31%|███       | 13/42 [00:45<01:31,  3.14s/it]\u001b[Apage_cars_A--> 37 cars_A_all--> 5535\n\n 33%|███▎      | 14/42 [00:50<01:43,  3.69s/it]\u001b[Apage_cars_A--> 37 cars_A_all--> 5572\n\n 36%|███▌      | 15/42 [00:54<01:38,  3.65s/it]\u001b[Apage_cars_A--> 37 cars_A_all--> 5609\n\n 38%|███▊      | 16/42 [00:57<01:30,  3.49s/it]\u001b[Apage_cars_A--> 37 cars_A_all--> 5646\n\n 40%|████      | 17/42 [01:00<01:24,  3.40s/it]\u001b[Apage_cars_A--> 37 cars_A_all--> 5683\n\n 43%|████▎     | 18/42 [01:04<01:21,  3.39s/it]\u001b[Apage_cars_A--> 37 cars_A_all--> 5720\n\n 45%|████▌     | 19/42 [01:07<01:16,  3.34s/it]\u001b[Apage_cars_A--> 37 cars_A_all--> 5757\n\n 48%|████▊     | 20/42 [01:10<01:13,  3.36s/it]\u001b[Apage_cars_A--> 37 cars_A_all--> 5794\n\n 50%|█████     | 21/42 [01:14<01:11,  3.38s/it]\u001b[Apage_cars_A--> 37 cars_A_all--> 5831\n\n 52%|█████▏    | 22/42 [01:17<01:05,  3.29s/it]\u001b[Apage_cars_A--> 37 cars_A_all--> 5868\n\n 55%|█████▍    | 23/42 [01:20<01:04,  3.39s/it]\u001b[Apage_cars_A--> 37 cars_A_all--> 5905\n\n 57%|█████▋    | 24/42 [01:24<01:02,  3.47s/it]\u001b[Apage_cars_A--> 37 cars_A_all--> 5942\n\n 60%|█████▉    | 25/42 [01:27<00:56,  3.32s/it]\u001b[Apage_cars_A--> 37 cars_A_all--> 5979\n\n 62%|██████▏   | 26/42 [01:31<00:55,  3.46s/it]\u001b[Apage_cars_A--> 37 cars_A_all--> 6016\n\n 64%|██████▍   | 27/42 [01:34<00:52,  3.53s/it]\u001b[Apage_cars_A--> 37 cars_A_all--> 6053\n\n 67%|██████▋   | 28/42 [01:38<00:49,  3.55s/it]\u001b[Apage_cars_A--> 37 cars_A_all--> 6090\n\n 69%|██████▉   | 29/42 [01:42<00:46,  3.54s/it]\u001b[Apage_cars_A--> 37 cars_A_all--> 6127\n\n 71%|███████▏  | 30/42 [01:45<00:40,  3.36s/it]\u001b[Apage_cars_A--> 37 cars_A_all--> 6164\n\n 74%|███████▍  | 31/42 [01:48<00:35,  3.25s/it]\u001b[Apage_cars_A--> 37 cars_A_all--> 6201\n\n 76%|███████▌  | 32/42 [01:51<00:33,  3.37s/it]\u001b[Apage_cars_A--> 37 cars_A_all--> 6238\n\n 79%|███████▊  | 33/42 [01:55<00:32,  3.57s/it]\u001b[Apage_cars_A--> 37 cars_A_all--> 6275\n\n 81%|████████  | 34/42 [01:58<00:27,  3.44s/it]\u001b[Apage_cars_A--> 37 cars_A_all--> 6312\n\n 83%|████████▎ | 35/42 [02:02<00:24,  3.46s/it]\u001b[Apage_cars_A--> 37 cars_A_all--> 6349\n\n 86%|████████▌ | 36/42 [02:06<00:21,  3.56s/it]\u001b[Apage_cars_A--> 37 cars_A_all--> 6386\n\n 88%|████████▊ | 37/42 [02:09<00:17,  3.43s/it]\u001b[Apage_cars_A--> 37 cars_A_all--> 6423\n\n 90%|█████████ | 38/42 [02:12<00:13,  3.42s/it]\u001b[Apage_cars_A--> 37 cars_A_all--> 6460\n\n 93%|█████████▎| 39/42 [02:15<00:10,  3.39s/it]\u001b[Apage_cars_A--> 37 cars_A_all--> 6497\n\n 95%|█████████▌| 40/42 [02:19<00:07,  3.54s/it]\u001b[Apage_cars_A--> 37 cars_A_all--> 6534\n\n 98%|█████████▊| 41/42 [02:22<00:03,  3.33s/it]\u001b[Apage_cars_A--> 37 cars_A_all--> 6571\n\n100%|██████████| 42/42 [02:26<00:00,  3.48s/it]\n 13%|█▎        | 2/15 [13:57<1:53:58, 526.07s/it]page_cars_A--> 16 cars_A_all--> 6587\n\n  0%|          | 0/37 [00:00<?, ?it/s]\u001b[A------\ncity--> 2 cars_pages--> 37\n\n  3%|▎         | 1/37 [00:03<02:01,  3.36s/it]\u001b[Apage_cars_A--> 38 cars_A_all--> 6625\n\n  5%|▌         | 2/37 [00:06<01:58,  3.40s/it]\u001b[Apage_cars_A--> 38 cars_A_all--> 6663\n\n  8%|▊         | 3/37 [00:10<01:56,  3.42s/it]\u001b[Apage_cars_A--> 38 cars_A_all--> 6701\n\n 11%|█         | 4/37 [00:13<01:47,  3.27s/it]\u001b[Apage_cars_A--> 37 cars_A_all--> 6738\n\n 14%|█▎        | 5/37 [00:16<01:42,  3.22s/it]\u001b[Apage_cars_A--> 37 cars_A_all--> 6775\n\n 16%|█▌        | 6/37 [00:19<01:38,  3.18s/it]\u001b[Apage_cars_A--> 37 cars_A_all--> 6812\n\n 19%|█▉        | 7/37 [00:23<01:41,  3.38s/it]\u001b[Apage_cars_A--> 37 cars_A_all--> 6849\n\n 22%|██▏       | 8/37 [00:26<01:36,  3.34s/it]\u001b[Apage_cars_A--> 37 cars_A_all--> 6886\n\n 24%|██▍       | 9/37 [00:29<01:32,  3.29s/it]\u001b[Apage_cars_A--> 37 cars_A_all--> 6923\n\n 27%|██▋       | 10/37 [00:33<01:29,  3.31s/it]\u001b[Apage_cars_A--> 37 cars_A_all--> 6960\n\n 30%|██▉       | 11/37 [00:36<01:26,  3.31s/it]\u001b[Apage_cars_A--> 37 cars_A_all--> 6997\n\n 32%|███▏      | 12/37 [00:39<01:21,  3.25s/it]\u001b[Apage_cars_A--> 37 cars_A_all--> 7034\n\n 35%|███▌      | 13/37 [00:42<01:15,  3.16s/it]\u001b[Apage_cars_A--> 37 cars_A_all--> 7071\n\n 38%|███▊      | 14/37 [00:45<01:12,  3.14s/it]\u001b[Apage_cars_A--> 37 cars_A_all--> 7108\n\n 41%|████      | 15/37 [00:48<01:08,  3.13s/it]\u001b[Apage_cars_A--> 37 cars_A_all--> 7145\n\n 43%|████▎     | 16/37 [00:53<01:14,  3.56s/it]\u001b[Apage_cars_A--> 37 cars_A_all--> 7182\n\n 46%|████▌     | 17/37 [00:56<01:10,  3.51s/it]\u001b[Apage_cars_A--> 37 cars_A_all--> 7219\n\n 49%|████▊     | 18/37 [00:59<01:05,  3.43s/it]\u001b[Apage_cars_A--> 37 cars_A_all--> 7256\n\n 51%|█████▏    | 19/37 [01:02<00:59,  3.29s/it]\u001b[Apage_cars_A--> 37 cars_A_all--> 7293\n\n 54%|█████▍    | 20/37 [01:05<00:54,  3.23s/it]\u001b[Apage_cars_A--> 37 cars_A_all--> 7330\n\n 57%|█████▋    | 21/37 [01:09<00:52,  3.28s/it]\u001b[Apage_cars_A--> 37 cars_A_all--> 7367\n\n 59%|█████▉    | 22/37 [01:12<00:48,  3.26s/it]\u001b[Apage_cars_A--> 37 cars_A_all--> 7404\n\n 62%|██████▏   | 23/37 [01:15<00:44,  3.17s/it]\u001b[Apage_cars_A--> 37 cars_A_all--> 7441\n\n 65%|██████▍   | 24/37 [01:18<00:40,  3.08s/it]\u001b[Apage_cars_A--> 37 cars_A_all--> 7478\n\n 68%|██████▊   | 25/37 [01:22<00:39,  3.28s/it]\u001b[Apage_cars_A--> 37 cars_A_all--> 7515\n\n 70%|███████   | 26/37 [01:25<00:35,  3.23s/it]\u001b[Apage_cars_A--> 37 cars_A_all--> 7552\n\n 73%|███████▎  | 27/37 [01:28<00:32,  3.29s/it]\u001b[Apage_cars_A--> 37 cars_A_all--> 7589\n\n 76%|███████▌  | 28/37 [01:31<00:28,  3.21s/it]\u001b[Apage_cars_A--> 37 cars_A_all--> 7626\n\n 78%|███████▊  | 29/37 [01:34<00:24,  3.09s/it]\u001b[Apage_cars_A--> 37 cars_A_all--> 7663\n\n 81%|████████  | 30/37 [01:37<00:21,  3.02s/it]\u001b[Apage_cars_A--> 37 cars_A_all--> 7700\n\n 84%|████████▍ | 31/37 [01:40<00:17,  2.97s/it]\u001b[Apage_cars_A--> 37 cars_A_all--> 7737\n\n 86%|████████▋ | 32/37 [01:43<00:15,  3.05s/it]\u001b[Apage_cars_A--> 37 cars_A_all--> 7774\n\n 89%|████████▉ | 33/37 [01:46<00:11,  2.98s/it]\u001b[Apage_cars_A--> 37 cars_A_all--> 7811\n\n 92%|█████████▏| 34/37 [01:49<00:09,  3.09s/it]\u001b[Apage_cars_A--> 37 cars_A_all--> 7848\n\n 95%|█████████▍| 35/37 [01:52<00:06,  3.16s/it]\u001b[Apage_cars_A--> 37 cars_A_all--> 7885\n\n 97%|█████████▋| 36/37 [01:55<00:02,  2.97s/it]\u001b[Apage_cars_A--> 37 cars_A_all--> 7922\n\n100%|██████████| 37/37 [01:57<00:00,  3.17s/it]\n 20%|██        | 3/15 [15:58<1:20:54, 404.58s/it]page_cars_A--> 5 cars_A_all--> 7927\n\n  0%|          | 0/13 [00:00<?, ?it/s]\u001b[A------\ncity--> 3 cars_pages--> 13\n\n  8%|▊         | 1/13 [00:03<00:38,  3.24s/it]\u001b[Apage_cars_A--> 38 cars_A_all--> 7965\n\n 15%|█▌        | 2/13 [00:06<00:35,  3.20s/it]\u001b[Apage_cars_A--> 37 cars_A_all--> 8002\n\n 23%|██▎       | 3/13 [00:09<00:32,  3.23s/it]\u001b[Apage_cars_A--> 37 cars_A_all--> 8039\n\n 31%|███       | 4/13 [00:12<00:28,  3.22s/it]\u001b[Apage_cars_A--> 37 cars_A_all--> 8076\n\n 38%|███▊      | 5/13 [00:15<00:25,  3.19s/it]\u001b[Apage_cars_A--> 37 cars_A_all--> 8113\n\n 46%|████▌     | 6/13 [00:19<00:23,  3.42s/it]\u001b[Apage_cars_A--> 37 cars_A_all--> 8150\n\n 54%|█████▍    | 7/13 [00:22<00:19,  3.30s/it]\u001b[Apage_cars_A--> 37 cars_A_all--> 8187\n\n 62%|██████▏   | 8/13 [00:25<00:15,  3.19s/it]\u001b[Apage_cars_A--> 37 cars_A_all--> 8224\n\n 69%|██████▉   | 9/13 [00:28<00:12,  3.12s/it]\u001b[Apage_cars_A--> 37 cars_A_all--> 8261\n\n 77%|███████▋  | 10/13 [00:31<00:09,  3.03s/it]\u001b[Apage_cars_A--> 37 cars_A_all--> 8298\n\n 85%|████████▍ | 11/13 [00:34<00:05,  2.99s/it]\u001b[Apage_cars_A--> 37 cars_A_all--> 8335\n\n 92%|█████████▏| 12/13 [00:37<00:02,  2.85s/it]\u001b[Apage_cars_A--> 37 cars_A_all--> 8372\n\n100%|██████████| 13/13 [00:39<00:00,  3.01s/it]\n 27%|██▋       | 4/15 [16:41<54:16, 296.07s/it]page_cars_A--> 8 cars_A_all--> 8380\n\n  0%|          | 0/16 [00:00<?, ?it/s]\u001b[A------\ncity--> 4 cars_pages--> 16\n\n  6%|▋         | 1/16 [00:03<00:52,  3.53s/it]\u001b[Apage_cars_A--> 38 cars_A_all--> 8418\n\n 12%|█▎        | 2/16 [00:06<00:46,  3.32s/it]\u001b[Apage_cars_A--> 37 cars_A_all--> 8455\n\n 19%|█▉        | 3/16 [00:09<00:41,  3.22s/it]\u001b[Apage_cars_A--> 37 cars_A_all--> 8492\n\n 25%|██▌       | 4/16 [00:12<00:37,  3.10s/it]\u001b[Apage_cars_A--> 37 cars_A_all--> 8529\n\n 31%|███▏      | 5/16 [00:15<00:33,  3.02s/it]\u001b[Apage_cars_A--> 37 cars_A_all--> 8566\n\n 38%|███▊      | 6/16 [00:18<00:31,  3.11s/it]\u001b[Apage_cars_A--> 37 cars_A_all--> 8603\n\n 44%|████▍     | 7/16 [00:21<00:29,  3.23s/it]\u001b[Apage_cars_A--> 37 cars_A_all--> 8640\n\n 50%|█████     | 8/16 [00:29<00:36,  4.52s/it]\u001b[Apage_cars_A--> 37 cars_A_all--> 8677\n\n 56%|█████▋    | 9/16 [00:31<00:26,  3.80s/it]\u001b[Apage_cars_A--> 37 cars_A_all--> 8714\n\n 62%|██████▎   | 10/16 [00:33<00:20,  3.38s/it]\u001b[Apage_cars_A--> 37 cars_A_all--> 8751\n\n 69%|██████▉   | 11/16 [00:36<00:15,  3.06s/it]\u001b[Apage_cars_A--> 37 cars_A_all--> 8788\n\n 75%|███████▌  | 12/16 [00:39<00:12,  3.25s/it]\u001b[Apage_cars_A--> 37 cars_A_all--> 8825\n\n 81%|████████▏ | 13/16 [00:42<00:09,  3.16s/it]\u001b[Apage_cars_A--> 37 cars_A_all--> 8862\n\n 88%|████████▊ | 14/16 [00:45<00:05,  2.92s/it]\u001b[Apage_cars_A--> 37 cars_A_all--> 8899\n\n 94%|█████████▍| 15/16 [00:47<00:02,  2.67s/it]\u001b[Apage_cars_A--> 37 cars_A_all--> 8936\n\n100%|██████████| 16/16 [00:49<00:00,  3.08s/it]\n 33%|███▎      | 5/15 [17:33<37:09, 222.97s/it]page_cars_A--> 35 cars_A_all--> 8971\n\n  0%|          | 0/12 [00:00<?, ?it/s]\u001b[A------\ncity--> 5 cars_pages--> 12\n\n  8%|▊         | 1/12 [00:02<00:26,  2.45s/it]\u001b[Apage_cars_A--> 38 cars_A_all--> 9009\n\n 17%|█▋        | 2/12 [00:04<00:24,  2.47s/it]\u001b[Apage_cars_A--> 37 cars_A_all--> 9046\n\n 25%|██▌       | 3/12 [00:07<00:22,  2.47s/it]\u001b[Apage_cars_A--> 37 cars_A_all--> 9083\n\n 33%|███▎      | 4/12 [00:10<00:20,  2.55s/it]\u001b[Apage_cars_A--> 37 cars_A_all--> 9120\n\n 42%|████▏     | 5/12 [00:12<00:17,  2.53s/it]\u001b[Apage_cars_A--> 37 cars_A_all--> 9157\n\n 50%|█████     | 6/12 [00:15<00:15,  2.59s/it]\u001b[Apage_cars_A--> 37 cars_A_all--> 9194\n\n 58%|█████▊    | 7/12 [00:17<00:12,  2.57s/it]\u001b[Apage_cars_A--> 37 cars_A_all--> 9231\n\n 67%|██████▋   | 8/12 [00:20<00:10,  2.60s/it]\u001b[Apage_cars_A--> 37 cars_A_all--> 9268\n\n 75%|███████▌  | 9/12 [00:22<00:07,  2.51s/it]\u001b[Apage_cars_A--> 37 cars_A_all--> 9305\n\n 83%|████████▎ | 10/12 [00:25<00:04,  2.46s/it]\u001b[Apage_cars_A--> 37 cars_A_all--> 9342\n\n 92%|█████████▏| 11/12 [00:27<00:02,  2.39s/it]\u001b[Apage_cars_A--> 37 cars_A_all--> 9379\n\n100%|██████████| 12/12 [00:29<00:00,  2.44s/it]\n 40%|████      | 6/15 [18:05<24:50, 165.61s/it]page_cars_A--> 22 cars_A_all--> 9401\n\n  0%|          | 0/9 [00:00<?, ?it/s]\u001b[A------\ncity--> 6 cars_pages--> 9\n\n 11%|█         | 1/9 [00:02<00:21,  2.67s/it]\u001b[Apage_cars_A--> 37 cars_A_all--> 9438\n\n 22%|██▏       | 2/9 [00:05<00:18,  2.61s/it]\u001b[Apage_cars_A--> 37 cars_A_all--> 9475\n\n 33%|███▎      | 3/9 [00:07<00:14,  2.50s/it]\u001b[Apage_cars_A--> 37 cars_A_all--> 9512\n\n 44%|████▍     | 4/9 [00:09<00:12,  2.46s/it]\u001b[Apage_cars_A--> 37 cars_A_all--> 9549\n\n 56%|█████▌    | 5/9 [00:11<00:09,  2.36s/it]\u001b[Apage_cars_A--> 37 cars_A_all--> 9586\n\n 67%|██████▋   | 6/9 [00:14<00:07,  2.48s/it]\u001b[Apage_cars_A--> 37 cars_A_all--> 9623\n\n 78%|███████▊  | 7/9 [00:16<00:04,  2.41s/it]\u001b[Apage_cars_A--> 37 cars_A_all--> 9660\n\n 89%|████████▉ | 8/9 [00:19<00:02,  2.36s/it]\u001b[Apage_cars_A--> 37 cars_A_all--> 9697\n\n100%|██████████| 9/9 [00:21<00:00,  2.38s/it]\n 47%|████▋     | 7/15 [18:29<16:24, 123.04s/it]page_cars_A--> 37 cars_A_all--> 9734\n\n  0%|          | 0/10 [00:00<?, ?it/s]\u001b[A------\ncity--> 7 cars_pages--> 10\n\n 10%|█         | 1/10 [00:02<00:19,  2.22s/it]\u001b[Apage_cars_A--> 38 cars_A_all--> 9772\n\n 20%|██        | 2/10 [00:04<00:17,  2.20s/it]\u001b[Apage_cars_A--> 37 cars_A_all--> 9809\n\n 30%|███       | 3/10 [00:06<00:16,  2.31s/it]\u001b[Apage_cars_A--> 37 cars_A_all--> 9846\n\n 40%|████      | 4/10 [00:09<00:14,  2.39s/it]\u001b[Apage_cars_A--> 37 cars_A_all--> 9883\n\n 50%|█████     | 5/10 [00:12<00:12,  2.46s/it]\u001b[Apage_cars_A--> 37 cars_A_all--> 9920\n\n 60%|██████    | 6/10 [00:15<00:10,  2.65s/it]\u001b[Apage_cars_A--> 37 cars_A_all--> 9957\n\n 70%|███████   | 7/10 [00:17<00:07,  2.49s/it]\u001b[Apage_cars_A--> 37 cars_A_all--> 9994\n\n 80%|████████  | 8/10 [00:20<00:05,  2.54s/it]\u001b[Apage_cars_A--> 37 cars_A_all--> 10031\n\n 90%|█████████ | 9/10 [00:22<00:02,  2.47s/it]\u001b[Apage_cars_A--> 37 cars_A_all--> 10068\n\n100%|██████████| 10/10 [00:23<00:00,  2.38s/it]\n 53%|█████▎    | 8/15 [18:55<10:58, 94.03s/it]page_cars_A--> 25 cars_A_all--> 10093\n\n  0%|          | 0/7 [00:00<?, ?it/s]\u001b[A------\ncity--> 8 cars_pages--> 7\n\n 14%|█▍        | 1/7 [00:02<00:14,  2.41s/it]\u001b[Apage_cars_A--> 38 cars_A_all--> 10131\n\n 29%|██▊       | 2/7 [00:04<00:12,  2.46s/it]\u001b[Apage_cars_A--> 37 cars_A_all--> 10168\n\n 43%|████▎     | 3/7 [00:07<00:09,  2.41s/it]\u001b[Apage_cars_A--> 37 cars_A_all--> 10205\n\n 57%|█████▋    | 4/7 [00:09<00:07,  2.40s/it]\u001b[Apage_cars_A--> 37 cars_A_all--> 10242\n\n 71%|███████▏  | 5/7 [00:12<00:05,  2.51s/it]\u001b[Apage_cars_A--> 37 cars_A_all--> 10279\n\n 86%|████████▌ | 6/7 [00:15<00:02,  2.56s/it]\u001b[Apage_cars_A--> 37 cars_A_all--> 10316\n\n100%|██████████| 7/7 [00:17<00:00,  2.48s/it]\n 60%|██████    | 9/15 [19:15<07:11, 71.88s/it]page_cars_A--> 37 cars_A_all--> 10353\n\n  0%|          | 0/8 [00:00<?, ?it/s]\u001b[A------\ncity--> 9 cars_pages--> 8\n\n 12%|█▎        | 1/8 [00:02<00:20,  2.89s/it]\u001b[Apage_cars_A--> 38 cars_A_all--> 10391\n\n 25%|██▌       | 2/8 [00:05<00:16,  2.68s/it]\u001b[Apage_cars_A--> 37 cars_A_all--> 10428\n\n 38%|███▊      | 3/8 [00:07<00:13,  2.69s/it]\u001b[Apage_cars_A--> 37 cars_A_all--> 10465\n\n 50%|█████     | 4/8 [00:10<00:10,  2.60s/it]\u001b[Apage_cars_A--> 37 cars_A_all--> 10502\n\n 62%|██████▎   | 5/8 [00:12<00:07,  2.50s/it]\u001b[Apage_cars_A--> 37 cars_A_all--> 10539\n\n 75%|███████▌  | 6/8 [00:14<00:04,  2.41s/it]\u001b[Apage_cars_A--> 37 cars_A_all--> 10576\n\n 88%|████████▊ | 7/8 [00:16<00:02,  2.34s/it]\u001b[Apage_cars_A--> 37 cars_A_all--> 10613\n\n100%|██████████| 8/8 [00:18<00:00,  2.30s/it]\n 67%|██████▋   | 10/15 [19:37<04:43, 56.77s/it]page_cars_A--> 8 cars_A_all--> 10621\n\n  0%|          | 0/5 [00:00<?, ?it/s]\u001b[A------\ncity--> 10 cars_pages--> 5\n\n 20%|██        | 1/5 [00:02<00:10,  2.73s/it]\u001b[Apage_cars_A--> 37 cars_A_all--> 10658\n\n 40%|████      | 2/5 [00:09<00:11,  3.92s/it]\u001b[Apage_cars_A--> 37 cars_A_all--> 10695\n\n 60%|██████    | 3/5 [00:11<00:06,  3.34s/it]\u001b[Apage_cars_A--> 37 cars_A_all--> 10732\n\n 80%|████████  | 4/5 [00:13<00:02,  2.98s/it]\u001b[Apage_cars_A--> 37 cars_A_all--> 10769\n\n100%|██████████| 5/5 [00:15<00:00,  3.02s/it]\n 73%|███████▎  | 11/15 [19:55<03:00, 45.15s/it]page_cars_A--> 6 cars_A_all--> 10775\n\n  0%|          | 0/12 [00:00<?, ?it/s]\u001b[A------\ncity--> 11 cars_pages--> 12\n\n  8%|▊         | 1/12 [00:02<00:26,  2.37s/it]\u001b[Apage_cars_A--> 38 cars_A_all--> 10813\n\n 17%|█▋        | 2/12 [00:04<00:22,  2.28s/it]\u001b[Apage_cars_A--> 37 cars_A_all--> 10850\n\n 25%|██▌       | 3/12 [00:06<00:21,  2.36s/it]\u001b[Apage_cars_A--> 37 cars_A_all--> 10887\n\n 33%|███▎      | 4/12 [00:09<00:19,  2.49s/it]\u001b[Apage_cars_A--> 37 cars_A_all--> 10924\n\n 42%|████▏     | 5/12 [00:12<00:17,  2.49s/it]\u001b[Apage_cars_A--> 37 cars_A_all--> 10961\n\n 50%|█████     | 6/12 [00:14<00:14,  2.43s/it]\u001b[Apage_cars_A--> 37 cars_A_all--> 10998\n\n 58%|█████▊    | 7/12 [00:16<00:11,  2.40s/it]\u001b[Apage_cars_A--> 37 cars_A_all--> 11035\n\n 67%|██████▋   | 8/12 [00:19<00:10,  2.60s/it]\u001b[Apage_cars_A--> 37 cars_A_all--> 11072\n\n 75%|███████▌  | 9/12 [00:22<00:07,  2.58s/it]\u001b[Apage_cars_A--> 37 cars_A_all--> 11109\n\n 83%|████████▎ | 10/12 [00:24<00:04,  2.44s/it]\u001b[Apage_cars_A--> 37 cars_A_all--> 11146\n\n 92%|█████████▏| 11/12 [00:27<00:02,  2.47s/it]\u001b[Apage_cars_A--> 37 cars_A_all--> 11183\n\n100%|██████████| 12/12 [00:28<00:00,  2.39s/it]\n 80%|████████  | 12/15 [20:26<02:02, 40.97s/it]page_cars_A--> 17 cars_A_all--> 11200\n\n  0%|          | 0/8 [00:00<?, ?it/s]\u001b[A------\ncity--> 12 cars_pages--> 8\n\n 12%|█▎        | 1/8 [00:02<00:17,  2.44s/it]\u001b[Apage_cars_A--> 38 cars_A_all--> 11238\n\n 25%|██▌       | 2/8 [00:05<00:16,  2.74s/it]\u001b[Apage_cars_A--> 37 cars_A_all--> 11275\n\n 38%|███▊      | 3/8 [00:09<00:14,  2.92s/it]\u001b[Apage_cars_A--> 37 cars_A_all--> 11312\n\n 50%|█████     | 4/8 [00:11<00:11,  2.84s/it]\u001b[Apage_cars_A--> 37 cars_A_all--> 11349\n\n 62%|██████▎   | 5/8 [00:14<00:08,  2.74s/it]\u001b[Apage_cars_A--> 37 cars_A_all--> 11386\n\n 75%|███████▌  | 6/8 [00:16<00:05,  2.60s/it]\u001b[Apage_cars_A--> 37 cars_A_all--> 11423\n\n 88%|████████▊ | 7/8 [00:18<00:02,  2.41s/it]\u001b[Apage_cars_A--> 37 cars_A_all--> 11460\n\n100%|██████████| 8/8 [00:19<00:00,  2.49s/it]\n 87%|████████▋ | 13/15 [20:49<01:10, 35.45s/it]page_cars_A--> 3 cars_A_all--> 11463\n\n  0%|          | 0/5 [00:00<?, ?it/s]\u001b[A------\ncity--> 13 cars_pages--> 5\n\n 20%|██        | 1/5 [00:02<00:11,  2.88s/it]\u001b[Apage_cars_A--> 38 cars_A_all--> 11501\n\n 40%|████      | 2/5 [00:05<00:08,  2.74s/it]\u001b[Apage_cars_A--> 37 cars_A_all--> 11538\n\n 60%|██████    | 3/5 [00:07<00:05,  2.60s/it]\u001b[Apage_cars_A--> 37 cars_A_all--> 11575\n\n 80%|████████  | 4/5 [00:10<00:02,  2.61s/it]\u001b[Apage_cars_A--> 37 cars_A_all--> 11612\n\n100%|██████████| 5/5 [00:12<00:00,  2.50s/it]\n 93%|█████████▎| 14/15 [21:04<00:29, 29.48s/it]page_cars_A--> 36 cars_A_all--> 11648\n\n  0%|          | 0/3 [00:00<?, ?it/s]\u001b[A------\ncity--> 14 cars_pages--> 3\n\n 33%|███▎      | 1/3 [00:02<00:05,  2.89s/it]\u001b[Apage_cars_A--> 37 cars_A_all--> 11685\n\n 67%|██████▋   | 2/3 [00:05<00:02,  2.73s/it]\u001b[Apage_cars_A--> 37 cars_A_all--> 11722\n\n100%|██████████| 3/3 [00:06<00:00,  2.32s/it]\n100%|██████████| 15/15 [21:14<00:00, 84.96s/it]page_cars_A--> 21 cars_A_all--> 11743\n\n"
    }
   ],
   "source": [
    "CARS_A_LIST = get_cars_A_all(proxies) #собираем все ссылки на автомобли\n",
    "CARS_A_LIST = list(set(CARS_A_LIST)) #уникальные ссылки\n",
    "with open(PATH_TO_LINKS_FILE, 'w') as f:\n",
    "    for item in CARS_A_LIST:\n",
    "        f.write(\"%s\\n\" % item)"
   ]
  },
  {
   "cell_type": "markdown",
   "metadata": {},
   "source": [
    "---"
   ]
  },
  {
   "cell_type": "code",
   "execution_count": 11,
   "metadata": {
    "tags": [
     "outputPrepend"
    ]
   },
   "outputs": [
    {
     "output_type": "stream",
     "name": "stderr",
     "text": ".ru/cars/used/sale/bmw/3er/1098801702-836d7a34/ \n\n 99%|█████████▉| 9816/9898 [4:38:40<02:05,  1.54s/it] Ошибка отработана:\n --->  car_page.find('li', class_='CardInfo__row CardInfo__row_owningTime').find_all('span', class_='CardInfo__cell')[1].text  <---\nПервая попытка:  https://auto.ru/cars/used/sale/bmw/7er/1087832254-2db7c8a8/ \n\n 99%|█████████▉| 9817/9898 [4:38:41<02:00,  1.48s/it] Ошибка отработана:\n --->  car_page.find('li', class_='CardInfo__row CardInfo__row_owningTime').find_all('span', class_='CardInfo__cell')[1].text  <---\n Ошибка отработана:\n --->  car_page.find('li', class_='CardInfo__row CardInfo__row_vin').find_all('span', class_='CardInfo__cell')[1].text[0:3]  <---\nПервая попытка:  https://auto.ru/cars/used/sale/bmw/5er/1089406408-dfdc1942/ \n\n 99%|█████████▉| 9818/9898 [4:38:43<01:57,  1.47s/it]Первая попытка:  https://auto.ru/cars/used/sale/bmw/5er/1092298452-2f0e682c/?geo_id=10645 \n\n 99%|█████████▉| 9819/9898 [4:38:44<02:02,  1.56s/it] Ошибка отработана:\n --->  car_page.find('li', class_='CardInfo__row CardInfo__row_owningTime').find_all('span', class_='CardInfo__cell')[1].text  <---\nПервая попытка:  https://auto.ru/cars/used/sale/bmw/x5/1100122422-ae0e6000/ \n\n 99%|█████████▉| 9820/9898 [4:38:46<02:00,  1.54s/it] Ошибка отработана:\n --->  car_page.find('li', class_='CardInfo__row CardInfo__row_owningTime').find_all('span', class_='CardInfo__cell')[1].text  <---\nПервая попытка:  https://auto.ru/cars/used/sale/bmw/x5/1098760610-cb432281/ \n\n 99%|█████████▉| 9821/9898 [4:38:47<01:54,  1.48s/it] Ошибка отработана:\n --->  car_page.find('li', class_='CardInfo__row CardInfo__row_owningTime').find_all('span', class_='CardInfo__cell')[1].text  <---\nПервая попытка:  https://auto.ru/cars/used/sale/bmw/5er/1096890594-aadfa290/?geo_id=11119 \n\n 99%|█████████▉| 9822/9898 [4:38:49<01:53,  1.49s/it] Ошибка отработана:\n --->  car_page.find('li', class_='CardInfo__row CardInfo__row_owningTime').find_all('span', class_='CardInfo__cell')[1].text  <---\nПервая попытка:  https://auto.ru/cars/used/sale/bmw/x5/1099462794-aa6dbc94/ \n\n 99%|█████████▉| 9823/9898 [4:38:51<02:01,  1.62s/it] Ошибка отработана:\n --->  car_page.find('li', class_='CardInfo__row CardInfo__row_owningTime').find_all('span', class_='CardInfo__cell')[1].text  <---\nПервая попытка:  https://auto.ru/cars/used/sale/bmw/x6/1095924796-fb51a899/?geo_id=10705 \n\n 99%|█████████▉| 9824/9898 [4:38:52<02:01,  1.64s/it] Ошибка отработана:\n --->  car_page.find('li', class_='CardInfo__row CardInfo__row_owningTime').find_all('span', class_='CardInfo__cell')[1].text  <---\nПервая попытка:  https://auto.ru/cars/used/sale/bmw/x5/1100405688-931ef53b/ \n\n 99%|█████████▉| 9825/9898 [4:38:54<02:01,  1.67s/it] Ошибка отработана:\n --->  car_page.find('li', class_='CardInfo__row CardInfo__row_owningTime').find_all('span', class_='CardInfo__cell')[1].text  <---\nПервая попытка:  https://auto.ru/cars/used/sale/bmw/5er/1098479030-2831854e/ \n\n 99%|█████████▉| 9826/9898 [4:38:55<01:56,  1.62s/it]Первая попытка:  https://auto.ru/cars/used/sale/bmw/5er/1090032428-91bd2151/ \n\n 99%|█████████▉| 9827/9898 [4:38:57<01:53,  1.60s/it]Первая попытка:  https://auto.ru/cars/used/sale/bmw/x6/1099293832-9ef3e990/ \n\n 99%|█████████▉| 9828/9898 [4:38:59<01:51,  1.59s/it]Первая попытка:  https://auto.ru/cars/used/sale/bmw/3er/1098161450-87b32240/?geo_id=10645 \n\n 99%|█████████▉| 9829/9898 [4:39:00<01:48,  1.58s/it]Первая попытка:  https://auto.ru/cars/used/sale/bmw/5er/1095125868-d1151191/ \n\n 99%|█████████▉| 9830/9898 [4:39:02<01:44,  1.53s/it] Ошибка отработана:\n --->  car_page.find('li', class_='CardInfo__row CardInfo__row_owningTime').find_all('span', class_='CardInfo__cell')[1].text  <---\nПервая попытка:  https://auto.ru/cars/used/sale/bmw/4/1095356298-844484d7/ \n\n 99%|█████████▉| 9831/9898 [4:39:03<01:48,  1.62s/it] Ошибка отработана:\n --->  car_page.find('li', class_='CardInfo__row CardInfo__row_owningTime').find_all('span', class_='CardInfo__cell')[1].text  <---\nПервая попытка:  https://auto.ru/cars/used/sale/bmw/x6/1084502381-1c5ec85d/ \n\n 99%|█████████▉| 9832/9898 [4:39:05<01:41,  1.54s/it] Ошибка отработана:\n --->  car_page.find('li', class_='CardInfo__row CardInfo__row_owningTime').find_all('span', class_='CardInfo__cell')[1].text  <---\nПервая попытка:  https://auto.ru/cars/used/sale/bmw/3er/1100226850-19f439e6/ \n\n 99%|█████████▉| 9833/9898 [4:39:06<01:43,  1.59s/it] Ошибка отработана:\n --->  car_page.find('li', class_='CardInfo__row CardInfo__row_owningTime').find_all('span', class_='CardInfo__cell')[1].text  <---\nПервая попытка:  https://auto.ru/cars/used/sale/bmw/x1/1099954034-2ebc7ef5/ \n\n 99%|█████████▉| 9834/9898 [4:39:08<01:42,  1.60s/it] Ошибка отработана:\n --->  car_page.find('li', class_='CardInfo__row CardInfo__row_owningTime').find_all('span', class_='CardInfo__cell')[1].text  <---\nПервая попытка:  https://auto.ru/cars/used/sale/bmw/5er/1098359154-828ed176/?geo_id=11108 \n\n 99%|█████████▉| 9835/9898 [4:39:10<01:40,  1.60s/it] Ошибка отработана:\n --->  car_page.find('li', class_='CardInfo__row CardInfo__row_owningTime').find_all('span', class_='CardInfo__cell')[1].text  <---\nПервая попытка:  https://auto.ru/cars/used/sale/bmw/x7/1099889226-e89a6d91/?geo_id=10672 \n\n 99%|█████████▉| 9836/9898 [4:39:11<01:40,  1.62s/it]Первая попытка:  https://auto.ru/cars/used/sale/bmw/x5/1100424508-ddcdac81/ \n\n 99%|█████████▉| 9837/9898 [4:39:13<01:38,  1.61s/it] Ошибка отработана:\n --->  car_page.find('li', class_='CardInfo__row CardInfo__row_owningTime').find_all('span', class_='CardInfo__cell')[1].text  <---\nПервая попытка:  https://auto.ru/cars/used/sale/bmw/3er/1099913646-d33742b7/?geo_id=10672 \n\n 99%|█████████▉| 9838/9898 [4:39:15<01:37,  1.63s/it]Первая попытка:  https://auto.ru/cars/used/sale/bmw/x1/1096357732-11fe1d5f/ \n\n 99%|█████████▉| 9839/9898 [4:39:16<01:38,  1.67s/it]Первая попытка:  https://auto.ru/cars/used/sale/bmw/1er/1091358836-a0c263e3/ \n\n 99%|█████████▉| 9840/9898 [4:39:18<01:31,  1.57s/it] Ошибка отработана:\n --->  car_page.find('li', class_='CardInfo__row CardInfo__row_owningTime').find_all('span', class_='CardInfo__cell')[1].text  <---\nПервая попытка:  https://auto.ru/cars/used/sale/bmw/5er/1097156248-f775aa1f/?geo_id=11131 \n\n 99%|█████████▉| 9841/9898 [4:39:19<01:27,  1.53s/it] Ошибка отработана:\n --->  car_page.find('li', class_='CardInfo__row CardInfo__row_owningTime').find_all('span', class_='CardInfo__cell')[1].text  <---\nПервая попытка:  https://auto.ru/cars/used/sale/bmw/7er/1092796242-edb5bbbd/ \n\n 99%|█████████▉| 9842/9898 [4:39:21<01:29,  1.59s/it] Ошибка отработана:\n --->  car_page.find('li', class_='CardInfo__row CardInfo__row_owningTime').find_all('span', class_='CardInfo__cell')[1].text  <---\nПервая попытка:  https://auto.ru/cars/used/sale/bmw/x5/1100295500-80d7bee9/?geo_id=11119 \n\n 99%|█████████▉| 9843/9898 [4:39:22<01:24,  1.54s/it] Ошибка отработана:\n --->  car_page.find('li', class_='CardInfo__row CardInfo__row_owningTime').find_all('span', class_='CardInfo__cell')[1].text  <---\nПервая попытка:  https://auto.ru/cars/used/sale/bmw/x5/1097133836-b64e0f4a/ \n\n 99%|█████████▉| 9844/9898 [4:39:24<01:23,  1.54s/it] Ошибка отработана:\n --->  car_page.find('li', class_='CardInfo__row CardInfo__row_owningTime').find_all('span', class_='CardInfo__cell')[1].text  <---\nПервая попытка:  https://auto.ru/cars/used/sale/bmw/x5/1099322148-5ce8c234/ \n\n 99%|█████████▉| 9845/9898 [4:39:25<01:22,  1.56s/it]Первая попытка:  https://auto.ru/cars/used/sale/bmw/x1/1100319078-7bd076a4/ \n\n 99%|█████████▉| 9846/9898 [4:39:27<01:21,  1.56s/it] Ошибка отработана:\n --->  car_page.find('li', class_='CardInfo__row CardInfo__row_owningTime').find_all('span', class_='CardInfo__cell')[1].text  <---\nПервая попытка:  https://auto.ru/cars/used/sale/bmw/x5_m/1100182442-be419638/ \n\n 99%|█████████▉| 9847/9898 [4:39:28<01:18,  1.54s/it]Первая попытка:  https://auto.ru/cars/used/sale/bmw/3er/1087510162-fc452a5c/?geo_id=10672 \n\n 99%|█████████▉| 9848/9898 [4:39:30<01:19,  1.59s/it] Ошибка отработана:\n --->  car_page.find('li', class_='CardInfo__row CardInfo__row_owningTime').find_all('span', class_='CardInfo__cell')[1].text  <---\nПервая попытка:  https://auto.ru/cars/used/sale/bmw/3er/1100347520-4d6fd1cf/ \n\n100%|█████████▉| 9849/9898 [4:39:32<01:15,  1.55s/it]Первая попытка:  https://auto.ru/cars/used/sale/bmw/5er/1099900494-ddffe648/?geo_id=11225 \n\n100%|█████████▉| 9850/9898 [4:39:33<01:17,  1.61s/it]Первая попытка:  https://auto.ru/cars/used/sale/bmw/x5/1018245763-4297/ \n\n100%|█████████▉| 9851/9898 [4:39:35<01:12,  1.54s/it] Ошибка отработана:\n --->  car_page.find('li', class_='CardInfo__row CardInfo__row_ownersCount').find_all('span', class_='CardInfo__cell')[1].text  <---\n Ошибка отработана:\n --->  car_page.find('li', class_='CardInfo__row CardInfo__row_vin').find_all('span', class_='CardInfo__cell')[1].text[0:3]  <---\nПервая попытка:  https://auto.ru/cars/used/sale/bmw/3er/1100464346-3feb3031/ \n\n100%|█████████▉| 9852/9898 [4:39:36<01:12,  1.57s/it]Первая попытка:  https://auto.ru/cars/used/sale/bmw/x5/1099200994-b58a1ea7/ \n\n100%|█████████▉| 9853/9898 [4:39:38<01:11,  1.59s/it] Ошибка отработана:\n --->  car_page.find('li', class_='CardInfo__row CardInfo__row_owningTime').find_all('span', class_='CardInfo__cell')[1].text  <---\n Ошибка отработана:\n --->  car_page.find('li', class_='CardInfo__row CardInfo__row_vin').find_all('span', class_='CardInfo__cell')[1].text[0:3]  <---\nПервая попытка:  https://auto.ru/cars/used/sale/bmw/3er/1100202176-0b346bf5/ \n\n100%|█████████▉| 9854/9898 [4:39:40<01:10,  1.61s/it] Ошибка отработана:\n --->  car_page.find('li', class_='CardInfo__row CardInfo__row_owningTime').find_all('span', class_='CardInfo__cell')[1].text  <---\nПервая попытка:  https://auto.ru/cars/used/sale/bmw/3er/1100491694-bdc69892/ \n\n100%|█████████▉| 9855/9898 [4:39:41<01:08,  1.60s/it]Первая попытка:  https://auto.ru/cars/used/sale/bmw/1er/1099127390-d0a3e090/ \n\n100%|█████████▉| 9856/9898 [4:39:43<01:05,  1.57s/it]Первая попытка:  https://auto.ru/cars/used/sale/bmw/5er/1099546696-e67d971c/ \n\n100%|█████████▉| 9857/9898 [4:39:44<01:03,  1.56s/it] Ошибка отработана:\n --->  car_page.find('li', class_='CardInfo__row CardInfo__row_owningTime').find_all('span', class_='CardInfo__cell')[1].text  <---\nПервая попытка:  https://auto.ru/cars/used/sale/bmw/3er/1097375978-5185caa8/ \n\n100%|█████████▉| 9858/9898 [4:39:46<01:03,  1.59s/it] Ошибка отработана:\n --->  car_page.find('li', class_='CardInfo__row CardInfo__row_owningTime').find_all('span', class_='CardInfo__cell')[1].text  <---\nПервая попытка:  https://auto.ru/cars/used/sale/bmw/3er/1099662054-3890604e/ \n\n100%|█████████▉| 9859/9898 [4:39:48<01:04,  1.65s/it]Первая попытка:  https://auto.ru/cars/used/sale/bmw/x1/1099802656-a9eaffc5/ \n\n100%|█████████▉| 9860/9898 [4:39:49<01:02,  1.64s/it] Ошибка отработана:\n --->  car_page.find('li', class_='CardInfo__row CardInfo__row_owningTime').find_all('span', class_='CardInfo__cell')[1].text  <---\nПервая попытка:  https://auto.ru/cars/used/sale/bmw/3er/1099787378-ba4c3b77/ \n\n100%|█████████▉| 9861/9898 [4:39:51<01:01,  1.67s/it] Ошибка отработана:\n --->  car_page.find('li', class_='CardInfo__row CardInfo__row_owningTime').find_all('span', class_='CardInfo__cell')[1].text  <---\nПервая попытка:  https://auto.ru/cars/used/sale/bmw/5er/1099340356-c4f29a89/ \n\n100%|█████████▉| 9862/9898 [4:39:53<00:59,  1.65s/it]Первая попытка:  https://auto.ru/cars/used/sale/bmw/5er/1099926728-7fb7e1a4/ \n\n100%|█████████▉| 9863/9898 [4:39:55<01:00,  1.73s/it] Ошибка отработана:\n --->  car_page.find('li', class_='CardInfo__row CardInfo__row_owningTime').find_all('span', class_='CardInfo__cell')[1].text  <---\nПервая попытка:  https://auto.ru/cars/used/sale/bmw/x5/1089106388-384f5017/?geo_id=11225 \n\n100%|█████████▉| 9864/9898 [4:39:57<01:00,  1.78s/it]Первая попытка:  https://auto.ru/cars/used/sale/bmw/5er/1100535664-7b39b72c/ \n\n100%|█████████▉| 9865/9898 [4:39:58<00:58,  1.76s/it] Ошибка отработана:\n --->  car_page.find('li', class_='CardInfo__row CardInfo__row_owningTime').find_all('span', class_='CardInfo__cell')[1].text  <---\nПервая попытка:  https://auto.ru/cars/used/sale/bmw/3er/1099115109-7239968d/?geo_id=11108 \n\n100%|█████████▉| 9866/9898 [4:40:00<00:53,  1.66s/it] Ошибка отработана:\n --->  car_page.find('li', class_='CardInfo__row CardInfo__row_owningTime').find_all('span', class_='CardInfo__cell')[1].text  <---\nПервая попытка:  https://auto.ru/cars/used/sale/bmw/x6/1100388982-9c6a10f1/ \n\n100%|█████████▉| 9867/9898 [4:40:01<00:50,  1.63s/it] Ошибка отработана:\n --->  car_page.find('li', class_='CardInfo__row CardInfo__row_owningTime').find_all('span', class_='CardInfo__cell')[1].text  <---\nПервая попытка:  https://auto.ru/cars/used/sale/bmw/m3/1100498584-6b8ad250/ \n\n100%|█████████▉| 9868/9898 [4:40:03<00:51,  1.72s/it] Ошибка отработана:\n --->  car_page.find('li', class_='CardInfo__row CardInfo__row_owningTime').find_all('span', class_='CardInfo__cell')[1].text  <---\nПервая попытка:  https://auto.ru/cars/used/sale/bmw/3er/1095067674-5e162786/?geo_id=11108 \n\n100%|█████████▉| 9869/9898 [4:40:05<00:49,  1.71s/it] Ошибка отработана:\n --->  car_page.find('li', class_='CardInfo__row CardInfo__row_owningTime').find_all('span', class_='CardInfo__cell')[1].text  <---\nПервая попытка:  https://auto.ru/cars/used/sale/bmw/3er/1100512550-42b65fd2/ \n\n100%|█████████▉| 9870/9898 [4:40:06<00:46,  1.64s/it] Ошибка отработана:\n --->  car_page.find('li', class_='CardInfo__row CardInfo__row_owningTime').find_all('span', class_='CardInfo__cell')[1].text  <---\nПервая попытка:  https://auto.ru/cars/used/sale/bmw/x6/1099795532-eb0edabf/ \n\n100%|█████████▉| 9871/9898 [4:40:08<00:45,  1.67s/it] Ошибка отработана:\n --->  car_page.find('li', class_='CardInfo__row CardInfo__row_owningTime').find_all('span', class_='CardInfo__cell')[1].text  <---\nПервая попытка:  https://auto.ru/cars/used/sale/bmw/5er/1097786570-06993872/?geo_id=11119 \n\n100%|█████████▉| 9872/9898 [4:40:10<00:44,  1.71s/it] Ошибка отработана:\n --->  car_page.find('li', class_='CardInfo__row CardInfo__row_owningTime').find_all('span', class_='CardInfo__cell')[1].text  <---\nПервая попытка:  https://auto.ru/cars/used/sale/bmw/3er/1100379792-2efa90e3/ \n\n100%|█████████▉| 9873/9898 [4:40:11<00:40,  1.63s/it] Ошибка отработана:\n --->  car_page.find('li', class_='CardInfo__row CardInfo__row_owningTime').find_all('span', class_='CardInfo__cell')[1].text  <---\nПервая попытка:  https://auto.ru/cars/used/sale/bmw/x5/1099235960-fed6ef3d/ \n\n100%|█████████▉| 9874/9898 [4:40:13<00:39,  1.67s/it] Ошибка отработана:\n --->  car_page.find('li', class_='CardInfo__row CardInfo__row_owningTime').find_all('span', class_='CardInfo__cell')[1].text  <---\nПервая попытка:  https://auto.ru/cars/used/sale/bmw/x6/1100367408-f583afa7/ \n\n100%|█████████▉| 9875/9898 [4:40:15<00:39,  1.72s/it] Ошибка отработана:\n --->  car_page.find('li', class_='CardInfo__row CardInfo__row_owningTime').find_all('span', class_='CardInfo__cell')[1].text  <---\nПервая попытка:  https://auto.ru/cars/used/sale/bmw/x5/1099505404-fb7c1a83/?geo_id=11119 \n\n100%|█████████▉| 9876/9898 [4:40:17<00:37,  1.72s/it] Ошибка отработана:\n --->  car_page.find('li', class_='CardInfo__row CardInfo__row_owningTime').find_all('span', class_='CardInfo__cell')[1].text  <---\nПервая попытка:  https://auto.ru/cars/used/sale/bmw/7er/1098044902-ed8e3923/ \n\n100%|█████████▉| 9877/9898 [4:40:18<00:36,  1.73s/it] Ошибка отработана:\n --->  car_page.find('li', class_='CardInfo__row CardInfo__row_owningTime').find_all('span', class_='CardInfo__cell')[1].text  <---\nПервая попытка:  https://auto.ru/cars/used/sale/bmw/x5/1094198852-f1d5accd/ \n\n100%|█████████▉| 9878/9898 [4:40:20<00:32,  1.61s/it] Ошибка отработана:\n --->  car_page.find('li', class_='CardInfo__row CardInfo__row_owningTime').find_all('span', class_='CardInfo__cell')[1].text  <---\nПервая попытка:  https://auto.ru/cars/used/sale/bmw/1er/1096824702-c8febcb8/?geo_id=11309 \n\n100%|█████████▉| 9879/9898 [4:40:22<00:31,  1.66s/it] Ошибка отработана:\n --->  car_page.find('li', class_='CardInfo__row CardInfo__row_owningTime').find_all('span', class_='CardInfo__cell')[1].text  <---\nПервая попытка:  https://auto.ru/cars/used/sale/bmw/x6/1098124992-4a9bd5e5/ \n\n100%|█████████▉| 9880/9898 [4:40:23<00:29,  1.62s/it]Первая попытка:  https://auto.ru/cars/used/sale/bmw/x5/1099828632-c425f203/ \n\n100%|█████████▉| 9881/9898 [4:40:25<00:28,  1.69s/it] Ошибка отработана:\n --->  car_page.find('li', class_='CardInfo__row CardInfo__row_owningTime').find_all('span', class_='CardInfo__cell')[1].text  <---\nПервая попытка:  https://auto.ru/cars/used/sale/bmw/5er/1092274552-c12b712c/?geo_id=11309 \n\n100%|█████████▉| 9882/9898 [4:40:27<00:27,  1.74s/it]Первая попытка:  https://auto.ru/cars/used/sale/bmw/1er/1099118093-e66a1f08/ \n\n100%|█████████▉| 9883/9898 [4:40:28<00:25,  1.68s/it]Первая попытка:  https://auto.ru/cars/used/sale/bmw/5er/1097309616-82c85181/?geo_id=11225 \n\n100%|█████████▉| 9884/9898 [4:40:30<00:23,  1.65s/it]Первая попытка:  https://auto.ru/cars/used/sale/bmw/5er/1100511184-29ccf949/ \n\n100%|█████████▉| 9885/9898 [4:40:31<00:21,  1.64s/it]Первая попытка:  https://auto.ru/cars/used/sale/bmw/x3/1089987390-4fc7f4bb/ \n\n100%|█████████▉| 9886/9898 [4:40:33<00:19,  1.64s/it]Первая попытка:  https://auto.ru/cars/used/sale/bmw/x6/1097980872-c63da729/?geo_id=11225 \n\n100%|█████████▉| 9887/9898 [4:40:35<00:18,  1.64s/it] Ошибка отработана:\n --->  car_page.find('li', class_='CardInfo__row CardInfo__row_owningTime').find_all('span', class_='CardInfo__cell')[1].text  <---\nПервая попытка:  https://auto.ru/cars/used/sale/bmw/x5/1099215308-190b89ac/ \n\n100%|█████████▉| 9888/9898 [4:40:36<00:16,  1.62s/it] Ошибка отработана:\n --->  car_page.find('li', class_='CardInfo__row CardInfo__row_owningTime').find_all('span', class_='CardInfo__cell')[1].text  <---\nПервая попытка:  https://auto.ru/cars/used/sale/bmw/5er/1092383694-813d3d03/ \n\n100%|█████████▉| 9889/9898 [4:40:38<00:14,  1.56s/it]Первая попытка:  https://auto.ru/cars/used/sale/bmw/5er/1100391216-c626d46c/ \n\n100%|█████████▉| 9890/9898 [4:40:39<00:12,  1.58s/it] Ошибка отработана:\n --->  car_page.find('li', class_='CardInfo__row CardInfo__row_owningTime').find_all('span', class_='CardInfo__cell')[1].text  <---\nПервая попытка:  https://auto.ru/cars/used/sale/bmw/x6_m/1100101864-b90db261/?geo_id=11131 \n\n100%|█████████▉| 9891/9898 [4:40:41<00:11,  1.58s/it]Первая попытка:  https://auto.ru/cars/used/sale/bmw/1er/1099812518-7a067b14/ \n\n100%|█████████▉| 9892/9898 [4:40:42<00:09,  1.53s/it]Первая попытка:  https://auto.ru/cars/used/sale/bmw/x5/1096060558-a1648f33/ \n\n100%|█████████▉| 9893/9898 [4:40:44<00:07,  1.51s/it] Ошибка отработана:\n --->  car_page.find('li', class_='CardInfo__row CardInfo__row_owningTime').find_all('span', class_='CardInfo__cell')[1].text  <---\nПервая попытка:  https://auto.ru/cars/used/sale/bmw/x3/1099443760-4f9d1237/ \n\n100%|█████████▉| 9894/9898 [4:40:45<00:06,  1.53s/it] Ошибка отработана:\n --->  car_page.find('li', class_='CardInfo__row CardInfo__row_owningTime').find_all('span', class_='CardInfo__cell')[1].text  <---\nПервая попытка:  https://auto.ru/cars/used/sale/bmw/x6/1098724076-bc6c16d6/?geo_id=10645 \n\n100%|█████████▉| 9895/9898 [4:40:47<00:04,  1.55s/it] Ошибка отработана:\n --->  car_page.find('li', class_='CardInfo__row CardInfo__row_owningTime').find_all('span', class_='CardInfo__cell')[1].text  <---\nПервая попытка:  https://auto.ru/cars/used/sale/bmw/5er/1098046570-8cdfe139/ \n\n100%|█████████▉| 9896/9898 [4:40:49<00:03,  1.64s/it]Первая попытка:  https://auto.ru/cars/used/sale/bmw/5er/1096206848-8bf95822/ \n\n100%|█████████▉| 9897/9898 [4:40:50<00:01,  1.63s/it] Ошибка отработана:\n --->  car_page.find('li', class_='CardInfo__row CardInfo__row_owningTime').find_all('span', class_='CardInfo__cell')[1].text  <---\nПервая попытка:  https://auto.ru/cars/used/sale/bmw/1er/1099889860-fc726c6d/?geo_id=11131 \n\n100%|██████████| 9898/9898 [4:40:52<00:00,  1.70s/it] Ошибка отработана:\n --->  car_page.find('li', class_='CardInfo__row CardInfo__row_owningTime').find_all('span', class_='CardInfo__cell')[1].text  <---\n\n"
    }
   ],
   "source": [
    "websites = []\n",
    "bmw_cars = []\n",
    "proxies1 = proxies\n",
    "with open(PATH_TO_LINKS_FILE, 'r') as f: #car_links-OK.txt\n",
    "    for line in tqdm(f):\n",
    "        websites.append(line.strip())\n",
    "\n",
    "i = 1\n",
    "for url in tqdm(websites):\n",
    "    print('Первая попытка: ', url, '\\n')\n",
    "    i+=1\n",
    "    thread = Scrapper(i, \"thread\"+str(i), url, proxies1)\n",
    "    res = thread.run()\n",
    "\n",
    "    if pd.isnull(res['price']):\n",
    "        print('Вторая попытка: ', url, '\\n')\n",
    "        i+=1\n",
    "        thread = Scrapper(i, \"thread\"+str(i), url, proxies1)\n",
    "        res = thread.run()\n",
    "\n",
    "    bmw_cars.append(res)# list.append - потокобезопасный метод "
   ]
  },
  {
   "cell_type": "code",
   "execution_count": 12,
   "metadata": {},
   "outputs": [
    {
     "output_type": "execute_result",
     "data": {
      "text/plain": ", \"Мультифункциональное рулевое колесо\", \"Прикуриватель и пепельница\", \"Активный усилитель руля\", \"Подрулевые лепестки переключения передач\", \"Электропривод зеркал\", \"Электростеклоподъёмники задние\", \"Парктроник передний\", \"Парктроник задний\", \"Система «старт-стоп»\", \"Электростеклоподъёмники передние\", \"Бортовой компьютер\", \"Запуск двигателя с кнопки\", \"Электропривод крышки багажника\", \"Регулировка руля по вылету\", \"Регулировка руля по высоте\", \"Климат-контроль 1-зонный\", \"Электроскладывание зеркал\"]}, {\"name\": \"Безопасность\", \"values\": [\"Система стабилизации (ESP)\", \"Подушка безопасности пассажира\", \"Подушка безопасности водителя\", \"Крепление детского кресла (задний ряд) ISOFIX\", \"Система помощи при старте в гору (HSA)\", \"Подушки безопасности оконные (шторки)\", \"Подушки безопасности боковые\", \"Датчик давления в шинах\", \"Антиблокировочная система (ABS)\", \"Блокировка замков задних дверей\"]}, {\"name\": \"Обзор\", \"values\": [\"Система адаптивного освещения\", \"Ксеноновые/Биксеноновые фары\", \"Электрообогрев боковых зеркал\", \"Датчик света\", \"Автоматический корректор фар\", \"Система управления дальним светом\", \"Омыватель фар\", \"Датчик дождя\"]}, {\"name\": \"Мультимедиа\", \"values\": [\"USB\", \"Аудиосистема\", \"Bluetooth\", \"Розетка 12V\"]}, {\"name\": \"Салон\", \"values\": [\"Спортивные передние сиденья\", \"Передний центральный подлокотник\", \"Комбинированный (Материал салона)\", \"Память передних сидений\", \"Обогрев рулевого колеса\", \"Регулировка передних сидений по высоте\", \"Складывающееся заднее сиденье\", \"Электрорегулировка передних сидений\", \"Подогрев передних сидений\", \"Отделка кожей рулевого колеса\", \"Третий задний подголовник\"]}, {\"name\": \"Защита от угона\", \"values\": [\"Центральный замок\", \"Датчик проникновения в салон (датчик объема)\", \"Сигнализация\", \"Иммобилайзер\"]}, {\"name\": \"Элементы экстерьера\", \"values\": [\"Диски 18\", \"Металлик\"]}]\\']',\n  'Привод': 'полный',\n  'Руль': 'Левый',\n  'Состояние': 'Не требует ремонта',\n  'Владельцы': '1\\xa0владелец',\n  'ПТС': 'Оригинал',\n  'Таможня': 'Растаможен',\n  'Владение': nan,\n  'id': nan,\n  'url': 'https://auto.ru/cars/used/sale/bmw/x4/1099523604-3fbe170e/',\n  'price': '2100000'},\n {'bodyType': 'внедорожник 5 дв.',\n  'brand': 'BMW',\n  'color': 'серебристый',\n  'fuelType': 'бензин',\n  'modelDate': '1999',\n  'name': '3.0i 3.0 AT (231 л.с.) 4WD',\n  'numberOfDoors': '5',\n  'productionDate': '2001',\n  'vehicleConfiguration': 'ALLROAD_5_DOORS AUTOMATIC 3.0',\n  'vehicleTransmission': 'автоматическая',\n  'engineDisplacement': '3.0 LTR',\n  'enginePower': '231 N12',\n  'description': 'БМВ Х5 Е53 отличное состояние ,  по двигателю и акпп все отлично , голова после кап. ремонта-все новое , квкг новый , пластиковые трубки новые , ремни , ваносы, ролики , каты удалены , гур и мотор печки новые , рычаги , сайлентблоки , раздатка и многое другое новое , климат трехзонный и люк работают  , сидения с памятью , руль с подогревом , рассмотрю варианты обмена ключами или с доплатой , по базе без дтп и арестов ,  предложения кидайте сюда ( агенства в ваших услугах не нуждаюсь ) , земля с газом и у моря , семена , опилки , ангары , бычки , землянки , дачи , рассрочки и остальной бутер не интересен , обмен на деньги или авто без обременений на ходу\\n',\n  'mileage': '351000',\n  'Комплектация': '',\n  'Привод': 'полный',\n  'Руль': 'Левый',\n  'Состояние': 'Не требует ремонта',\n  'Владельцы': '3 или более',\n  'ПТС': 'Дубликат',\n  'Таможня': 'Растаможен',\n  'Владение': nan,\n  'id': nan,\n  'url': 'https://auto.ru/cars/used/sale/bmw/x5/1094918518-1525be53/',\n  'price': '460000'},\n {'bodyType': 'внедорожник 5 дв.',\n  'brand': 'BMW',\n  'color': 'чёрный',\n  'fuelType': 'бензин',\n  'modelDate': '2014',\n  'name': '35i 3.0 AT (306 л.с.) 4WD',\n  'numberOfDoors': '5',\n  'productionDate': '2016',\n  'vehicleConfiguration': '',\n  'vehicleTransmission': 'автоматическая',\n  'engineDisplacement': '3.0 LTR',\n  'enginePower': '306 N12',\n  'description': 'Автодилер года 2020\\n\\nПобедитель в номинации «Организация продаж автомобилей с пробегом»\\n\\nИндивидуальные условия при покупке в кредит и/или при обмене на Ваш автомобиль.\\nВсегда рады видеть Вас в нашем дилерском центре для просмотра данного автомобиля\\nнаходящегося на крытой парковке ежедневно с 9 до 22. \\n\\nВы можете воспользоваться специальными кредитными предложениями при приобретении автомобиля: \\n+ Первоначальный взнос от 0% \\n+ Срок кредита от 6 месяцев до 7 лет \\n+ Выгодные процентные ставки \\n+ Кредит по двум документам (только паспорт и права) и выдачи кредита в автосалоне одним днем \\n+ ЭКСПРЕСС автокредит, одобрение заявки и выдача автокредита за 2 часа \\n+ Возможность оформления автокредита на себя, а автомобиля на другое лицо \\n+ Возможность досрочного погашения на следующий день \\n+ Возможность оформления в большинстве регионов РФ \\n+ Возможность оформления без военного билета \\n+ Возможность оформления автокредита для работающих пенсионеров (до 85 лет ) \\n+ Возможность не сдавать ПТС в банк\\n+ Возможность оплаты по безналичному расчёту\\n\\nБолее подробную информацию по комплектации, дополнительному оборудованию автомобиля и\\n\\nвсем интересующим вопросам, уточняйте по телефону, у продавца – консультанта.',\n  'mileage': '61228',\n  'Комплектация': '[\\'[{\"name\": \"Безопасность\", \"values\": [\"Антипробуксовочная система (ASR)\", \"Подушка безопасности водителя\", \"Система помощи при старте в гору (HSA)\", \"Подушки безопасности оконные (шторки)\", \"Подушка безопасности пассажира\", \"Подушки безопасности боковые задние\", \"Подушки безопасности боковые\", \"Датчик давления в шинах\", \"Антиблокировочная система (ABS)\", \"Блокировка замков задних дверей\", \"Подушка безопасности для защиты коленей водителя\"]}, {\"name\": \"Мультимедиа\", \"values\": [\"AUX\", \"USB\", \"Навигационная система\", \"Bluetooth\"]}, {\"name\": \"Комфорт\", \"values\": [\"Электрорегулировка руля\", \"Мультифункциональное рулевое колесо\", \"Бортовой компьютер\", \"Усилитель руля\", \"Камера задняя\", \"Электропривод зеркал\", \"Запуск двигателя с кнопки\", \"Парктроник передний\", \"Адаптивный круиз-контроль\", \"Электропривод крышки багажника\", \"Климат-контроль 2-зонный\", \"Электроскладывание зеркал\", \"Парктроник задний\"]}, {\"name\": \"Обзор\", \"values\": [\"Датчик света\", \"Ксеноновые/Биксеноновые фары\", \"Автоматический корректор фар\", \"Омыватель фар\", \"Противотуманные фары\", \"Датчик дождя\", \"Электрообогрев лобового стекла\"]}, {\"name\": \"Защита от угона\", \"values\": [\"Центральный замок\", \"Иммобилайзер\"]}, {\"name\": \"Салон\", \"values\": [\"Отделка кожей рычага КПП\", \"Кожа (Материал салона)\", \"Обогрев рулевого колеса\", \"Отделка кожей рулевого колеса\", \"Память сиденья водителя\"]}]\\']',\n  'Привод': 'полный',\n  'Руль': 'Левый',\n  'Состояние': 'Не требует ремонта',\n  'Владельцы': '1\\xa0владелец',\n  'ПТС': 'Оригинал',\n  'Таможня': 'Растаможен',\n  'Владение': nan,\n  'id': nan,\n  'url': 'https://auto.ru/cars/used/sale/bmw/x6/1100486606-cf201b14/',\n  'price': '2949000'},\n {'bodyType': 'внедорожник 5 дв.',\n  'brand': 'BMW',\n  'color': 'коричневый',\n  'fuelType': 'дизель',\n  'modelDate': '2010',\n  'name': '30d 3.0d AT (245 л.с.) 4WD',\n  'numberOfDoors': '5',\n  'productionDate': '2011',\n  'vehicleConfiguration': ' xDrive30d Luxury',\n  'vehicleTransmission': 'автоматическая',\n  'engineDisplacement': '3.0 LTR',\n  'enginePower': '245 N12',\n  'description': 'Максимальная комплектация,редкая,есть третий ряд Сидений,21 колёса разноширокие,панорамная крыша,присоски на дверях,ломающиеся спинки Сидений,полностью и во время обслужен,машина в керамике,подробности по телефону!',\n  'mileage': '150000',\n  'Комплектация': '[\\'[{\"name\": \"Безопасность\", \"values\": [\"Система стабилизации (ESP)\", \"Подушка безопасности водителя\", \"Крепление детского кресла (задний ряд) ISOFIX\", \"Подушки безопасности оконные (шторки)\", \"Подушка безопасности пассажира\", \"Подушки безопасности боковые\", \"Датчик давления в шинах\", \"Антиблокировочная система (ABS)\"]}, {\"name\": \"Комфорт\", \"values\": [\"Электростеклоподъёмники передние\", \"Мультифункциональное рулевое колесо\", \"Бортовой компьютер\", \"Камера задняя\", \"Активный усилитель руля\", \"Электропривод зеркал\", \"Электростеклоподъёмники задние\", \"Запуск двигателя с кнопки\", \"Парктроник передний\", \"Электропривод крышки багажника\", \"Регулировка руля по вылету\", \"Регулировка руля по высоте\", \"Климат-контроль 1-зонный\", \"Электроскладывание зеркал\", \"Парктроник задний\"]}, {\"name\": \"Обзор\", \"values\": [\"Датчик света\", \"Ксеноновые/Биксеноновые фары\", \"Омыватель фар\", \"Противотуманные фары\", \"Датчик дождя\", \"Электрообогрев боковых зеркал\"]}, {\"name\": \"Мультимедиа\", \"values\": [\"Навигационная система\", \"Премиальная аудиосистема\"]}, {\"name\": \"Салон\", \"values\": [\"Складывающееся заднее сиденье\", \"Электрорегулировка передних сидений\", \"Кожа (Материал салона)\", \"Память передних сидений\", \"Обогрев рулевого колеса\", \"Подогрев передних сидений\", \"Отделка кожей рулевого колеса\"]}, {\"name\": \"Защита от угона\", \"values\": [\"Сигнализация\", \"Центральный замок\", \"Иммобилайзер\"]}, {\"name\": \"Элементы экстерьера\", \"values\": [\"Металлик\"]}]\\']',\n  'Привод': 'полный',\n  'Руль': 'Левый',\n  'Состояние': 'Не требует ремонта',\n  'Владельцы': '2\\xa0владельца',\n  'ПТС': 'Оригинал',\n  'Таможня': 'Растаможен',\n  'Владение': nan,\n  'id': nan,\n  'url': 'https://auto.ru/cars/used/sale/bmw/x5/1099158780-627baf33/',\n  'price': '1770000'},\n {'bodyType': 'внедорожник 5 дв.',\n  'brand': 'BMW',\n  'color': 'чёрный',\n  'fuelType': 'бензин',\n  'modelDate': '2014',\n  'name': '28i 2.0 AT (245 л.с.) 4WD',\n  'numberOfDoors': '5',\n  'productionDate': '2017',\n  'vehicleConfiguration': ' xDrive28i',\n  'vehicleTransmission': 'автоматическая',\n  'engineDisplacement': '2.0 LTR',\n  'enginePower': '245 N12',\n  'description': 'Куплен весной 18г в Авилон без пробега., обслуживался у официалов',\n  'mileage': '24966',\n  'Комплектация': '[\\'[{\"name\": \"Комфорт\", \"values\": [\"Система «старт-стоп»\", \"Электростеклоподъёмники передние\", \"Мультифункциональное рулевое колесо\", \"Прикуриватель и пепельница\", \"Бортовой компьютер\", \"Активный усилитель руля\", \"Электропривод зеркал\", \"Электростеклоподъёмники задние\", \"Запуск двигателя с кнопки\", \"Парктроник передний\", \"Электропривод крышки багажника\", \"Регулировка руля по вылету\", \"Регулировка руля по высоте\", \"Климат-контроль 1-зонный\", \"Парктроник задний\"]}, {\"name\": \"Безопасность\", \"values\": [\"Система стабилизации (ESP)\", \"Подушка безопасности водителя\", \"Крепление детского кресла (задний ряд) ISOFIX\", \"Система помощи при старте в гору (HSA)\", \"Подушки безопасности оконные (шторки)\", \"Подушка безопасности пассажира\", \"Подушки безопасности боковые\", \"Антиблокировочная система (ABS)\"]}, {\"name\": \"Мультимедиа\", \"values\": [\"AUX\", \"Аудиосистема\", \"Розетка 12V\"]}, {\"name\": \"Обзор\", \"values\": [\"Ксеноновые/Биксеноновые фары\", \"Автоматический корректор фар\", \"Омыватель фар\", \"Противотуманные фары\", \"Электрообогрев боковых зеркал\"]}, {\"name\": \"Салон\", \"values\": [\"Передний центральный подлокотник\", \"Складывающееся заднее сиденье\", \"Ткань (Материал салона)\", \"Отделка кожей рычага КПП\", \"Подогрев передних сидений\", \"Отделка кожей рулевого колеса\", \"Третий задний подголовник\"]}, {\"name\": \"Элементы экстерьера\", \"values\": [\"Рейлинги на крыше\", \"Диски 17\"]}, {\"name\": \"Защита от угона\", \"values\": [\"Центральный замок\", \"Иммобилайзер\"]}]\\']',\n  'Привод': 'полный',\n  'Руль': 'Левый',\n  'Состояние': 'Не требует ремонта',\n  'Владельцы': '1\\xa0владелец',\n  'ПТС': 'Оригинал',\n  'Таможня': 'Растаможен',\n  'Владение': nan,\n  'id': nan,\n  'url': 'https://auto.ru/cars/used/sale/bmw/x4/1090724882-9aea7cbf/',\n  'price': '2450000'},\n {'bodyType': 'внедорожник 5 дв.',\n  'brand': 'BMW',\n  'color': 'чёрный',\n  'fuelType': 'дизель',\n  'modelDate': '2006',\n  'name': '3.0d 3.0d AT (235 л.с.) 4WD',\n  'numberOfDoors': '5',\n  'productionDate': '2007',\n  'vehicleConfiguration': '',\n  'vehicleTransmission': 'автоматическая',\n  'engineDisplacement': '3.0 LTR',\n  'enginePower': '235 N12',\n  'description': 'Продаю BMW x5 в шикарном состоянии. ПТС оригинал. Я третий владелец, на авто езжу с декабря 2018 года.\\n\\nПо технике авто в превосходном состоянии. Коробка передач после капитального ремонта, переключает как новая, коррекции в заводских параметрах. \\nУстранены все «детские болячки»:\\n-заменен шкиф (демфер) коленвала, поставленна обгонная муфта\\n- починен блок ручника\\n-удалены вихревые заслонки и отключен егр\\nЗамена масла каждые 7-8тыс. км. Обслуживался у профессионалов с БМВ клуба.\\n\\n\\nПо кузову в отличном состоянии, было 2 МЕЛКИХ  ДТП у предыдущего владельца( 1.помяли крышку багажника - косметический окрас, 2. Притёрли переднее правое крыло- так же косметический окрас).\\n\\nКомплектация:\\n- Сидения с ломающимися спинками\\n- Проекция на лобовое стекло\\n- Чёрный потолок\\n-- Панорамная крыша  обслужена, каждую весну обрабатываю оригинальной смазкой bmw)\\n- Пневмобаллоны сзади (обслужены , 2 раза в год обрабатываю на подъемнике)\\n- Активные стабилизаторы (работают без нареканий), активной рейки нет\\n- Камера заднего вида\\n- Доустановлена мультимедия , как на  f15 (оригинальный монитор ССС отдам в подарок)\\n- Поставлены задние фонари от рестайлинга (оригинальные так же отдаю в придачу)\\n\\n2 комплекта колёс:  лето R20, зима R18.\\n\\nГотов к любым проверкам, могу поехать для переоформления в ГАИ. В помощи продажи не нуждаюсь.\\nАдекватный торг у капота уместен. ',\n  'mileage': '230000',\n  'Комплектация': '[\\'[{\"name\": \"Салон\", \"values\": [\"Тонированные стекла\", \"Отделка кожей рычага КПП\", \"Люк\", \"Панорамная крыша / лобовое стекло\", \"Отделка потолка чёрной тканью\"]}, {\"name\": \"Обзор\", \"values\": [\"Противотуманные фары\", \"Омыватель фар\"]}, {\"name\": \"Мультимедиа\", \"values\": [\"AUX\", \"USB\", \"Мультимедиа система с ЖК-экраном\", \"Навигационная система\", \"Bluetooth\"]}, {\"name\": \"Комфорт\", \"values\": [\"Проекционный дисплей\", \"Мультифункциональное рулевое колесо\", \"Бортовой компьютер\", \"Система доступа без ключа\", \"Электроскладывание зеркал\", \"Электропривод зеркал\"]}, {\"name\": \"Элементы экстерьера\", \"values\": [\"Диски 20\"]}, {\"name\": \"Защита от угона\", \"values\": [\"Центральный замок\"]}]\\']',\n  'Привод': 'полный',\n  'Руль': 'Левый',\n  'Состояние': 'Не требует ремонта',\n  'Владельцы': '3 или более',\n  'ПТС': 'Оригинал',\n  'Таможня': 'Растаможен',\n  'Владение': '1 год и 9 месяцев',\n  'id': nan,\n  'url': 'https://auto.ru/cars/used/sale/bmw/x5/1098575612-5283adef/',\n  'price': '1180000'},\n {'bodyType': 'внедорожник 5 дв.',\n  'brand': 'BMW',\n  'color': 'серебристый',\n  'fuelType': 'бензин',\n  'modelDate': '2012',\n  'name': '4.4 AT (555 л.с.) 4WD',\n  'numberOfDoors': '5',\n  'productionDate': '2012',\n  'vehicleConfiguration': 'ALLROAD_5_DOORS AUTOMATIC 4.4',\n  'vehicleTransmission': 'автоматическая',\n  'engineDisplacement': '4.4 LTR',\n  'enginePower': '555 N12',\n  'description': 'X6m st-2\\nКованые диски Rennen\\nРезина Michelin 275/40 зад 315/35 r20\\nПружины eibach \\nВыхлоп Eisenmann Race\\nЕсть кастомная задняя банка с регулировкой громкости звука (с пульта)\\nЗамена масла двс каждые 5 тыс км.\\nЗамена масла кпп,раздатка,редуктора раз в год\\nТопливо только 100 бенз.\\nДоработана система охлаждения масла и  охл.жидкости\\n0-100 3.6сек\\n100-200 8.6 сек\\n402м 11,54\\nМашина обслужена с головы до ног,денег никогда не жалел.\\nЗимой практически не эксплуатируется \\nОгромная просьба не звонить с глупыми вопросами типа как тачка валит,либо какой расход топлива\\nКомплект зимней резины на оригинальных дисках\\n',\n  'mileage': '102900',\n  'Комплектация': '',\n  'Привод': 'полный',\n  'Руль': 'Левый',\n  'Состояние': 'Не требует ремонта',\n  'Владельцы': '2\\xa0владельца',\n  'ПТС': 'Оригинал',\n  'Таможня': 'Растаможен',\n  'Владение': nan,\n  'id': nan,\n  'url': 'https://auto.ru/cars/used/sale/bmw/x6_m/1099420134-709d2bdf/',\n  'price': '1700000'},\n {'bodyType': 'седан',\n  'brand': 'BMW',\n  'color': 'синий',\n  'fuelType': 'бензин',\n  'modelDate': '1998',\n  'name': '318i 1.9 MT (118 л.с.)',\n  'numberOfDoors': '4',\n  'productionDate': '1998',\n  'vehicleConfiguration': 'SEDAN MECHANICAL 1.9',\n  'vehicleTransmission': 'механическая',\n  'engineDisplacement': '1.9 LTR',\n  'enginePower': '118 N12',\n  'description': 'Машина в хорошем состоянии, подвеску, сцепление меняли год назад. Требует внимания по кузову. На других колесах отдам за 200',\n  'mileage': '280000',\n  'Комплектация': '',\n  'Привод': 'задний',\n  'Руль': 'Левый',\n  'Состояние': 'Не требует ремонта',\n  'Владельцы': '3 или более',\n  'ПТС': 'Дубликат',\n  'Таможня': 'Растаможен',\n  'Владение': '3 года',\n  'id': nan,\n  'url': 'https://auto.ru/cars/used/sale/bmw/3er/1098773522-cd47f9b5/',\n  'price': '220000'},\n {'bodyType': 'седан',\n  'brand': 'BMW',\n  'color': 'чёрный',\n  'fuelType': 'бензин',\n  'modelDate': '2015',\n  'name': '320i 2.0 AT (184 л.с.)',\n  'numberOfDoors': '4',\n  'productionDate': '2015',\n  'vehicleConfiguration': 'SEDAN AUTOMATIC 2.0',\n  'vehicleTransmission': 'автоматическая',\n  'engineDisplacement': '2.0 LTR',\n  'enginePower': '184 N12',\n  'description': 'Автомобиль в отличном состоянии.  За пределами края не эксплуатировался. Реальный пробег. Сборка - Германия. Почти новая зимняя резина в подарок. Без крашенных элементов, готов на любые проверки. \\nЗа время эксплуатации долнительно установлены: чёрная спортивная решетка радиатора, коврики Эва, прошивка в 330i, кодировка скрытых функций, аквапринт планок салона в тёмное дерево. Цена окончательная, без торга ',\n  'mileage': '74000',\n  'Комплектация': '',\n  'Привод': 'задний',\n  'Руль': 'Левый',\n  'Состояние': 'Не требует ремонта',\n  'Владельцы': '3 или более',\n  'ПТС': 'Оригинал',\n  'Таможня': 'Растаможен',\n  'Владение': nan,\n  'id': nan,\n  'url': 'https://auto.ru/cars/used/sale/bmw/3er/1098775536-058cd5bf/',\n  'price': '1290000'},\n {'bodyType': 'купе',\n  'brand': 'BMW',\n  'color': 'красный',\n  'fuelType': 'бензин',\n  'modelDate': '2007',\n  'name': '125i 3.0 AT (218 л.с.)',\n  'numberOfDoors': '2',\n  'productionDate': '2008',\n  'vehicleConfiguration': 'COUPE AUTOMATIC 3.0',\n  'vehicleTransmission': 'автоматическая',\n  'engineDisplacement': '3.0 LTR',\n  'enginePower': '218 N12',\n  'description': 'Отличная машина с реальным пробегом. \\nПричина продажи , нужна машина большего размера.\\nРасход масла 0,5 литра от замены до замены.\\nВсе работает, все на месте.\\nВ птс я один. Ограничений или штрафов на машине нет. \\nДва комплекта резины.\\nВозможен обмен на Opel Zafira, Chevrolet Orlando, Hyundai H1.\\nПТС новый, только моя запись.',\n  'mileage': '163000',\n  'Комплектация': '',\n  'Привод': 'задний',\n  'Руль': 'Левый',\n  'Состояние': 'Не требует ремонта',\n  'Владельцы': '3 или более',\n  'ПТС': 'Оригинал',\n  'Таможня': 'Растаможен',\n  'Владение': nan,\n  'id': nan,\n  'url': 'https://auto.ru/cars/used/sale/bmw/1er/1097987126-b90eb0a4/',\n  'price': '670000'},\n {'bodyType': 'седан',\n  'brand': 'BMW',\n  'color': 'чёрный',\n  'fuelType': 'бензин',\n  'modelDate': '2008',\n  'name': '325i 2.5 AT (218 л.с.)',\n  'numberOfDoors': '4',\n  'productionDate': '2010',\n  'vehicleConfiguration': ' 325',\n  'vehicleTransmission': 'автоматическая',\n  'engineDisplacement': '2.5 LTR',\n  'enginePower': '218 N12',\n  'description': 'М пакет , салон алькантара. Машина в хорошем состоянии. ',\n  'mileage': '217000',\n  'Комплектация': '[\\'[{\"name\": \"Комфорт\", \"values\": [\"Электростеклоподъёмники задние\", \"Электростеклоподъёмники передние\", \"Бортовой компьютер\", \"Кондиционер\", \"Регулировка руля по вылету\", \"Усилитель руля\", \"Регулировка руля по высоте\", \"Электропривод зеркал\"]}, {\"name\": \"Безопасность\", \"values\": [\"Система стабилизации (ESP)\", \"Подушка безопасности водителя\", \"Подушки безопасности боковые\", \"Подушка безопасности пассажира\", \"Антиблокировочная система (ABS)\"]}, {\"name\": \"Обзор\", \"values\": [\"Противотуманные фары\", \"Электрообогрев боковых зеркал\"]}, {\"name\": \"Мультимедиа\", \"values\": [\"Аудиосистема\"]}, {\"name\": \"Защита от угона\", \"values\": [\"Иммобилайзер\", \"Центральный замок\"]}, {\"name\": \"Салон\", \"values\": [\"Ткань (Материал салона)\"]}]\\']',\n  'Привод': 'задний',\n  'Руль': 'Левый',\n  'Состояние': 'Не требует ремонта',\n  'Владельцы': '3 или более',\n  'ПТС': 'Оригинал',\n  'Таможня': 'Растаможен',\n  'Владение': '8 месяцев',\n  'id': nan,\n  'url': 'https://auto.ru/cars/used/sale/bmw/3er/1100316240-6b16999b/',\n  'price': '649000'},\n ...]"
     },
     "metadata": {},
     "execution_count": 12
    }
   ],
   "source": [
    "bmw_cars"
   ]
  },
  {
   "cell_type": "code",
   "execution_count": 13,
   "metadata": {},
   "outputs": [
    {
     "output_type": "execute_result",
     "data": {
      "text/plain": "9898"
     },
     "metadata": {},
     "execution_count": 13
    }
   ],
   "source": [
    "len(bmw_cars)"
   ]
  },
  {
   "cell_type": "code",
   "execution_count": 14,
   "metadata": {},
   "outputs": [],
   "source": [
    "bmw_cars_clone = bmw_cars.copy()"
   ]
  },
  {
   "cell_type": "code",
   "execution_count": 15,
   "metadata": {},
   "outputs": [],
   "source": [
    " with open(PATH_TO_JSON_FILE, 'w') as f:\n",
    "    json.dump(bmw_cars, f)\n",
    " "
   ]
  },
  {
   "cell_type": "code",
   "execution_count": 17,
   "metadata": {},
   "outputs": [
    {
     "output_type": "execute_result",
     "data": {
      "text/plain": "[]"
     },
     "metadata": {},
     "execution_count": 17
    }
   ],
   "source": [
    "proxies"
   ]
  },
  {
   "cell_type": "markdown",
   "metadata": {},
   "source": [
    "---"
   ]
  },
  {
   "cell_type": "code",
   "execution_count": 55,
   "metadata": {},
   "outputs": [
    {
     "output_type": "execute_result",
     "data": {
      "text/plain": "Index(['bodyType', 'brand', 'color', 'fuelType', 'modelDate', 'name',\n       'numberOfDoors', 'productionDate', 'vehicleConfiguration',\n       'vehicleTransmission', 'engineDisplacement', 'enginePower',\n       'description', 'mileage', 'Комплектация', 'Привод', 'Руль', 'Состояние',\n       'Владельцы', 'ПТС', 'Таможня', 'Владение', 'id', 'url', 'price'],\n      dtype='object')"
     },
     "metadata": {},
     "execution_count": 55
    }
   ],
   "source": [
    "df_j.columns"
   ]
  },
  {
   "cell_type": "code",
   "execution_count": 54,
   "metadata": {},
   "outputs": [
    {
     "output_type": "execute_result",
     "data": {
      "text/plain": "                bodyType brand   color fuelType  modelDate  name  \\\n0                  седан   BMW  чёрный   бензин        NaN   NaN   \n1                  седан   BMW  чёрный   бензин        NaN   NaN   \n2                  седан   BMW  чёрный   бензин        NaN   NaN   \n3      внедорожник 5 дв.   BMW   синий   бензин        NaN   NaN   \n4                  седан   BMW  чёрный   бензин        NaN   NaN   \n...                  ...   ...     ...      ...        ...   ...   \n10151  внедорожник 5 дв.   BMW   серый   бензин        NaN   NaN   \n10152              седан   BMW   синий   бензин        NaN   NaN   \n10153              седан   BMW   белый   бензин        NaN   NaN   \n10154              седан   BMW   белый   бензин        NaN   NaN   \n10155  внедорожник 5 дв.   BMW  чёрный   бензин        NaN   NaN   \n\n       numberOfDoors  productionDate  vehicleConfiguration  \\\n0                4.0          1998.0                  None   \n1                4.0          2011.0                  None   \n2                4.0          1999.0                  None   \n3                5.0          2009.0                         \n4                4.0          2008.0                   520   \n...              ...             ...                   ...   \n10151            5.0          2004.0                  None   \n10152            4.0          2019.0   530i xDrive M Sport   \n10153            4.0          2012.0                   750   \n10154            4.0          2012.0                  None   \n10155            5.0          2014.0                         \n\n      vehicleTransmission  ...  Привод   Руль           Состояние  \\\n0            механическая  ...  задний  Левый  Не требует ремонта   \n1          автоматическая  ...  полный  Левый  Не требует ремонта   \n2          автоматическая  ...  задний  Левый  Не требует ремонта   \n3          автоматическая  ...  полный  Левый  Не требует ремонта   \n4          автоматическая  ...  задний  Левый  Не требует ремонта   \n...                   ...  ...     ...    ...                 ...   \n10151      автоматическая  ...  полный  Левый  Не требует ремонта   \n10152      автоматическая  ...  полный  Левый  Не требует ремонта   \n10153      автоматическая  ...  полный  Левый  Не требует ремонта   \n10154      автоматическая  ...  задний  Левый  Не требует ремонта   \n10155      автоматическая  ...  полный  Левый  Не требует ремонта   \n\n         Владельцы       ПТС     Таможня            Владение  id  \\\n0      3 или более  Дубликат  Растаможен                None NaN   \n1      2 владельца  Оригинал  Растаможен    8 лет и 2 месяца NaN   \n2      3 или более  Оригинал  Растаможен    5 лет и 2 месяца NaN   \n3       1 владелец  Оригинал  Растаможен  11 лет и 5 месяцев NaN   \n4      3 или более  Оригинал  Растаможен                None NaN   \n...            ...       ...         ...                 ...  ..   \n10151   1 владелец  Оригинал  Растаможен                None NaN   \n10152   1 владелец  Оригинал  Растаможен                None NaN   \n10153  2 владельца  Оригинал  Растаможен                None NaN   \n10154  3 или более  Оригинал  Растаможен                None NaN   \n10155  2 владельца  Оригинал  Растаможен                None NaN   \n\n                                                     url      price  \n0      https://auto.ru/cars/used/sale/bmw/5er/1088602...   170000.0  \n1      https://auto.ru/cars/used/sale/bmw/7er/1099947...   965000.0  \n2      https://auto.ru/cars/used/sale/bmw/5er/1096411...   180000.0  \n3      https://auto.ru/cars/used/sale/bmw/x6/11002177...  1300000.0  \n4      https://auto.ru/cars/used/sale/bmw/5er/1099992...   600000.0  \n...                                                  ...        ...  \n10151  https://auto.ru/cars/used/sale/bmw/x3/10966846...   490000.0  \n10152  https://auto.ru/cars/used/sale/bmw/5er/1099162...  3229000.0  \n10153  https://auto.ru/cars/used/sale/bmw/7er/1094575...   980000.0  \n10154  https://auto.ru/cars/used/sale/bmw/5er/1095777...  1220000.0  \n10155  https://auto.ru/cars/used/sale/bmw/x3/11003167...  1400000.0  \n\n[10156 rows x 25 columns]",
      "text/html": "<div>\n<style scoped>\n    .dataframe tbody tr th:only-of-type {\n        vertical-align: middle;\n    }\n\n    .dataframe tbody tr th {\n        vertical-align: top;\n    }\n\n    .dataframe thead th {\n        text-align: right;\n    }\n</style>\n<table border=\"1\" class=\"dataframe\">\n  <thead>\n    <tr style=\"text-align: right;\">\n      <th></th>\n      <th>bodyType</th>\n      <th>brand</th>\n      <th>color</th>\n      <th>fuelType</th>\n      <th>modelDate</th>\n      <th>name</th>\n      <th>numberOfDoors</th>\n      <th>productionDate</th>\n      <th>vehicleConfiguration</th>\n      <th>vehicleTransmission</th>\n      <th>...</th>\n      <th>Привод</th>\n      <th>Руль</th>\n      <th>Состояние</th>\n      <th>Владельцы</th>\n      <th>ПТС</th>\n      <th>Таможня</th>\n      <th>Владение</th>\n      <th>id</th>\n      <th>url</th>\n      <th>price</th>\n    </tr>\n  </thead>\n  <tbody>\n    <tr>\n      <th>0</th>\n      <td>седан</td>\n      <td>BMW</td>\n      <td>чёрный</td>\n      <td>бензин</td>\n      <td>NaN</td>\n      <td>NaN</td>\n      <td>4.0</td>\n      <td>1998.0</td>\n      <td>None</td>\n      <td>механическая</td>\n      <td>...</td>\n      <td>задний</td>\n      <td>Левый</td>\n      <td>Не требует ремонта</td>\n      <td>3 или более</td>\n      <td>Дубликат</td>\n      <td>Растаможен</td>\n      <td>None</td>\n      <td>NaN</td>\n      <td>https://auto.ru/cars/used/sale/bmw/5er/1088602...</td>\n      <td>170000.0</td>\n    </tr>\n    <tr>\n      <th>1</th>\n      <td>седан</td>\n      <td>BMW</td>\n      <td>чёрный</td>\n      <td>бензин</td>\n      <td>NaN</td>\n      <td>NaN</td>\n      <td>4.0</td>\n      <td>2011.0</td>\n      <td>None</td>\n      <td>автоматическая</td>\n      <td>...</td>\n      <td>полный</td>\n      <td>Левый</td>\n      <td>Не требует ремонта</td>\n      <td>2 владельца</td>\n      <td>Оригинал</td>\n      <td>Растаможен</td>\n      <td>8 лет и 2 месяца</td>\n      <td>NaN</td>\n      <td>https://auto.ru/cars/used/sale/bmw/7er/1099947...</td>\n      <td>965000.0</td>\n    </tr>\n    <tr>\n      <th>2</th>\n      <td>седан</td>\n      <td>BMW</td>\n      <td>чёрный</td>\n      <td>бензин</td>\n      <td>NaN</td>\n      <td>NaN</td>\n      <td>4.0</td>\n      <td>1999.0</td>\n      <td>None</td>\n      <td>автоматическая</td>\n      <td>...</td>\n      <td>задний</td>\n      <td>Левый</td>\n      <td>Не требует ремонта</td>\n      <td>3 или более</td>\n      <td>Оригинал</td>\n      <td>Растаможен</td>\n      <td>5 лет и 2 месяца</td>\n      <td>NaN</td>\n      <td>https://auto.ru/cars/used/sale/bmw/5er/1096411...</td>\n      <td>180000.0</td>\n    </tr>\n    <tr>\n      <th>3</th>\n      <td>внедорожник 5 дв.</td>\n      <td>BMW</td>\n      <td>синий</td>\n      <td>бензин</td>\n      <td>NaN</td>\n      <td>NaN</td>\n      <td>5.0</td>\n      <td>2009.0</td>\n      <td></td>\n      <td>автоматическая</td>\n      <td>...</td>\n      <td>полный</td>\n      <td>Левый</td>\n      <td>Не требует ремонта</td>\n      <td>1 владелец</td>\n      <td>Оригинал</td>\n      <td>Растаможен</td>\n      <td>11 лет и 5 месяцев</td>\n      <td>NaN</td>\n      <td>https://auto.ru/cars/used/sale/bmw/x6/11002177...</td>\n      <td>1300000.0</td>\n    </tr>\n    <tr>\n      <th>4</th>\n      <td>седан</td>\n      <td>BMW</td>\n      <td>чёрный</td>\n      <td>бензин</td>\n      <td>NaN</td>\n      <td>NaN</td>\n      <td>4.0</td>\n      <td>2008.0</td>\n      <td>520</td>\n      <td>автоматическая</td>\n      <td>...</td>\n      <td>задний</td>\n      <td>Левый</td>\n      <td>Не требует ремонта</td>\n      <td>3 или более</td>\n      <td>Оригинал</td>\n      <td>Растаможен</td>\n      <td>None</td>\n      <td>NaN</td>\n      <td>https://auto.ru/cars/used/sale/bmw/5er/1099992...</td>\n      <td>600000.0</td>\n    </tr>\n    <tr>\n      <th>...</th>\n      <td>...</td>\n      <td>...</td>\n      <td>...</td>\n      <td>...</td>\n      <td>...</td>\n      <td>...</td>\n      <td>...</td>\n      <td>...</td>\n      <td>...</td>\n      <td>...</td>\n      <td>...</td>\n      <td>...</td>\n      <td>...</td>\n      <td>...</td>\n      <td>...</td>\n      <td>...</td>\n      <td>...</td>\n      <td>...</td>\n      <td>...</td>\n      <td>...</td>\n      <td>...</td>\n    </tr>\n    <tr>\n      <th>10151</th>\n      <td>внедорожник 5 дв.</td>\n      <td>BMW</td>\n      <td>серый</td>\n      <td>бензин</td>\n      <td>NaN</td>\n      <td>NaN</td>\n      <td>5.0</td>\n      <td>2004.0</td>\n      <td>None</td>\n      <td>автоматическая</td>\n      <td>...</td>\n      <td>полный</td>\n      <td>Левый</td>\n      <td>Не требует ремонта</td>\n      <td>1 владелец</td>\n      <td>Оригинал</td>\n      <td>Растаможен</td>\n      <td>None</td>\n      <td>NaN</td>\n      <td>https://auto.ru/cars/used/sale/bmw/x3/10966846...</td>\n      <td>490000.0</td>\n    </tr>\n    <tr>\n      <th>10152</th>\n      <td>седан</td>\n      <td>BMW</td>\n      <td>синий</td>\n      <td>бензин</td>\n      <td>NaN</td>\n      <td>NaN</td>\n      <td>4.0</td>\n      <td>2019.0</td>\n      <td>530i xDrive M Sport</td>\n      <td>автоматическая</td>\n      <td>...</td>\n      <td>полный</td>\n      <td>Левый</td>\n      <td>Не требует ремонта</td>\n      <td>1 владелец</td>\n      <td>Оригинал</td>\n      <td>Растаможен</td>\n      <td>None</td>\n      <td>NaN</td>\n      <td>https://auto.ru/cars/used/sale/bmw/5er/1099162...</td>\n      <td>3229000.0</td>\n    </tr>\n    <tr>\n      <th>10153</th>\n      <td>седан</td>\n      <td>BMW</td>\n      <td>белый</td>\n      <td>бензин</td>\n      <td>NaN</td>\n      <td>NaN</td>\n      <td>4.0</td>\n      <td>2012.0</td>\n      <td>750</td>\n      <td>автоматическая</td>\n      <td>...</td>\n      <td>полный</td>\n      <td>Левый</td>\n      <td>Не требует ремонта</td>\n      <td>2 владельца</td>\n      <td>Оригинал</td>\n      <td>Растаможен</td>\n      <td>None</td>\n      <td>NaN</td>\n      <td>https://auto.ru/cars/used/sale/bmw/7er/1094575...</td>\n      <td>980000.0</td>\n    </tr>\n    <tr>\n      <th>10154</th>\n      <td>седан</td>\n      <td>BMW</td>\n      <td>белый</td>\n      <td>бензин</td>\n      <td>NaN</td>\n      <td>NaN</td>\n      <td>4.0</td>\n      <td>2012.0</td>\n      <td>None</td>\n      <td>автоматическая</td>\n      <td>...</td>\n      <td>задний</td>\n      <td>Левый</td>\n      <td>Не требует ремонта</td>\n      <td>3 или более</td>\n      <td>Оригинал</td>\n      <td>Растаможен</td>\n      <td>None</td>\n      <td>NaN</td>\n      <td>https://auto.ru/cars/used/sale/bmw/5er/1095777...</td>\n      <td>1220000.0</td>\n    </tr>\n    <tr>\n      <th>10155</th>\n      <td>внедорожник 5 дв.</td>\n      <td>BMW</td>\n      <td>чёрный</td>\n      <td>бензин</td>\n      <td>NaN</td>\n      <td>NaN</td>\n      <td>5.0</td>\n      <td>2014.0</td>\n      <td></td>\n      <td>автоматическая</td>\n      <td>...</td>\n      <td>полный</td>\n      <td>Левый</td>\n      <td>Не требует ремонта</td>\n      <td>2 владельца</td>\n      <td>Оригинал</td>\n      <td>Растаможен</td>\n      <td>None</td>\n      <td>NaN</td>\n      <td>https://auto.ru/cars/used/sale/bmw/x3/11003167...</td>\n      <td>1400000.0</td>\n    </tr>\n  </tbody>\n</table>\n<p>10156 rows × 25 columns</p>\n</div>"
     },
     "metadata": {},
     "execution_count": 54
    }
   ],
   "source": [
    "df_j = pd.read_json(PATH_TO_JSON_FILE) \n",
    "df_j"
   ]
  },
  {
   "cell_type": "code",
   "execution_count": 120,
   "metadata": {},
   "outputs": [
    {
     "output_type": "execute_result",
     "data": {
      "text/plain": "2       https://auto.ru/cars/used/sale/bmw/x5/10964989...\n4       https://auto.ru/cars/used/sale/bmw/x5/10971235...\n6       https://auto.ru/cars/used/sale/bmw/3er/1094603...\n10      https://auto.ru/cars/used/sale/bmw/5er/1099937...\n15      https://auto.ru/cars/used/sale/bmw/x6/11002057...\n                              ...                        \n9683    https://auto.ru/cars/used/sale/bmw/3er/1095706...\n9686    https://auto.ru/cars/used/sale/bmw/5er/1099896...\n9687    https://auto.ru/cars/used/sale/bmw/3er/1100407...\n9689    https://auto.ru/cars/used/sale/bmw/7er/1099783...\n9691    https://auto.ru/cars/used/sale/bmw/5er/1100212...\nName: url, Length: 3606, dtype: object"
     },
     "metadata": {},
     "execution_count": 120
    }
   ],
   "source": [
    "df_j[df_j['Комплектация'] ==''].url"
   ]
  },
  {
   "cell_type": "code",
   "execution_count": 83,
   "metadata": {},
   "outputs": [
    {
     "output_type": "execute_result",
     "data": {
      "text/plain": "Растаможен    9357\nName: Таможня, dtype: int64"
     },
     "metadata": {},
     "execution_count": 83
    }
   ],
   "source": [
    "df_j.Таможня.value_counts() #столбец содержит одно значение -- удаляем"
   ]
  },
  {
   "cell_type": "code",
   "execution_count": 92,
   "metadata": {},
   "outputs": [
    {
     "output_type": "execute_result",
     "data": {
      "text/plain": "9358"
     },
     "metadata": {},
     "execution_count": 92
    }
   ],
   "source": [
    "len(df_j.url.unique())"
   ]
  },
  {
   "cell_type": "code",
   "execution_count": 97,
   "metadata": {},
   "outputs": [],
   "source": [
    "df_j.drop(['modelDate', 'name', 'id', 'Таможня' ], inplace=True, axis=1)"
   ]
  },
  {
   "cell_type": "code",
   "execution_count": 100,
   "metadata": {},
   "outputs": [],
   "source": [
    "df_j.dropna(axis=0, how='all', inplace=True)"
   ]
  },
  {
   "cell_type": "code",
   "execution_count": 122,
   "metadata": {},
   "outputs": [
    {
     "output_type": "execute_result",
     "data": {
      "text/plain": "Index(['bodyType', 'brand', 'color', 'fuelType', 'numberOfDoors',\n       'productionDate', 'vehicleConfiguration', 'vehicleTransmission',\n       'engineDisplacement', 'enginePower', 'description', 'mileage',\n       'Комплектация', 'Привод', 'Руль', 'Состояние', 'Владельцы', 'ПТС',\n       'Владение', 'url'],\n      dtype='object')"
     },
     "metadata": {},
     "execution_count": 122
    }
   ],
   "source": [
    "df_j.columns"
   ]
  },
  {
   "cell_type": "code",
   "execution_count": 101,
   "metadata": {},
   "outputs": [
    {
     "output_type": "execute_result",
     "data": {
      "text/plain": "               bodyType brand   color fuelType  numberOfDoors  productionDate  \\\n0     внедорожник 5 дв.   BMW  чёрный   бензин            5.0          2016.0   \n1                 седан   BMW  чёрный   бензин            4.0          2011.0   \n2     внедорожник 5 дв.   BMW   серый   бензин            5.0          2014.0   \n4     внедорожник 5 дв.   BMW  чёрный   дизель            5.0          2007.0   \n5     внедорожник 5 дв.   BMW  чёрный   дизель            5.0          2018.0   \n...                 ...   ...     ...      ...            ...             ...   \n9687              седан   BMW  чёрный   бензин            4.0          1997.0   \n9688  внедорожник 5 дв.   BMW   белый   дизель            5.0          2009.0   \n9689              седан   BMW  чёрный   дизель            4.0          2010.0   \n9690  внедорожник 5 дв.   BMW  чёрный   бензин            5.0          2017.0   \n9691              седан   BMW   серый   бензин            4.0          2006.0   \n\n     vehicleConfiguration vehicleTransmission engineDisplacement enginePower  \\\n0        xDrive35i Luxury      автоматическая            3.0 LTR     306 N12   \n1                              автоматическая            4.4 LTR     407 N12   \n2                    None      автоматическая            3.0 LTR     306 N12   \n4                    None      автоматическая            3.0 LTR     235 N12   \n5                              автоматическая            3.0 LTR     249 N12   \n...                   ...                 ...                ...         ...   \n9687                 None        механическая            1.6 LTR     102 N12   \n9688                           автоматическая            3.0 LTR     286 N12   \n9689                 None      автоматическая            3.0 LTR     306 N12   \n9690                           автоматическая            2.0 LTR     192 N12   \n9691                 None      автоматическая            2.5 LTR     218 N12   \n\n                                            description   mileage  \\\n0     Продаю свой автомобиль BWM X5 2016 года по ПТС...   79000.0   \n1     Машина в отличном техническом и внешнем состоя...  115000.0   \n2     Два владельца Крашено левое зад крыло и зад дв...  140000.0   \n4     На стоянки не ставлю, от машине не избавляюсь,...  250000.0   \n5     Действующая КАСКО  Обслуживание у официального...   39135.0   \n...                                                 ...       ...   \n9687  СРОЧНО Продам свой авто. Ездила максимально ак...  280000.0   \n9688  В продаже BMW X6 в отличном состоянии. - 2009 ...  160232.0   \n9689  В отличном состоянии больше времени стоял , на...   82000.0   \n9690  РОЛЬФ - Официальный дилер и Лучший дилер Росси...   19700.0   \n9691  4 WD ( Полный привод ) Cборка Германия ! * В н...  200000.0   \n\n                                           Комплектация  Привод   Руль  \\\n0     ['[{\"name\": \"Комфорт\", \"values\": [\"Круиз-контр...  полный  Левый   \n1     ['[{\"name\": \"Салон\", \"values\": [\"Тонированные ...  полный  Левый   \n2                                                        полный  Левый   \n4                                                        полный  Левый   \n5     ['[{\"name\": \"Салон\", \"values\": [\"Тонированные ...  полный  Левый   \n...                                                 ...     ...    ...   \n9687                                                     задний  Левый   \n9688  ['[{\"name\": \"Комфорт\", \"values\": [\"Круиз-контр...  полный  Левый   \n9689                                                     полный  Левый   \n9690  ['[{\"name\": \"Салон\", \"values\": [\"Комбинированн...  полный  Левый   \n9691                                                     полный  Левый   \n\n               Состояние    Владельцы       ПТС            Владение  \\\n0     Не требует ремонта  2 владельца  Оригинал  3 года и 7 месяцев   \n1     Не требует ремонта  3 или более  Дубликат                None   \n2     Не требует ремонта  2 владельца  Оригинал                None   \n4     Не требует ремонта  3 или более  Оригинал                None   \n5     Не требует ремонта   1 владелец  Оригинал  1 год и 10 месяцев   \n...                  ...          ...       ...                 ...   \n9687  Не требует ремонта  3 или более  Оригинал                None   \n9688  Не требует ремонта  2 владельца  Оригинал                None   \n9689  Не требует ремонта  3 или более  Оригинал                None   \n9690  Не требует ремонта   1 владелец  Оригинал                None   \n9691  Не требует ремонта  3 или более  Дубликат                None   \n\n                                                    url  \n0     https://auto.ru/cars/used/sale/bmw/x5/10981645...  \n1     https://auto.ru/cars/used/sale/bmw/7er/1095055...  \n2     https://auto.ru/cars/used/sale/bmw/x5/10964989...  \n4     https://auto.ru/cars/used/sale/bmw/x5/10971235...  \n5     https://auto.ru/cars/used/sale/bmw/x6/10984396...  \n...                                                 ...  \n9687  https://auto.ru/cars/used/sale/bmw/3er/1100407...  \n9688  https://auto.ru/cars/used/sale/bmw/x6/10999842...  \n9689  https://auto.ru/cars/used/sale/bmw/7er/1099783...  \n9690  https://auto.ru/cars/used/sale/bmw/x1/11003379...  \n9691  https://auto.ru/cars/used/sale/bmw/5er/1100212...  \n\n[9357 rows x 20 columns]",
      "text/html": "<div>\n<style scoped>\n    .dataframe tbody tr th:only-of-type {\n        vertical-align: middle;\n    }\n\n    .dataframe tbody tr th {\n        vertical-align: top;\n    }\n\n    .dataframe thead th {\n        text-align: right;\n    }\n</style>\n<table border=\"1\" class=\"dataframe\">\n  <thead>\n    <tr style=\"text-align: right;\">\n      <th></th>\n      <th>bodyType</th>\n      <th>brand</th>\n      <th>color</th>\n      <th>fuelType</th>\n      <th>numberOfDoors</th>\n      <th>productionDate</th>\n      <th>vehicleConfiguration</th>\n      <th>vehicleTransmission</th>\n      <th>engineDisplacement</th>\n      <th>enginePower</th>\n      <th>description</th>\n      <th>mileage</th>\n      <th>Комплектация</th>\n      <th>Привод</th>\n      <th>Руль</th>\n      <th>Состояние</th>\n      <th>Владельцы</th>\n      <th>ПТС</th>\n      <th>Владение</th>\n      <th>url</th>\n    </tr>\n  </thead>\n  <tbody>\n    <tr>\n      <th>0</th>\n      <td>внедорожник 5 дв.</td>\n      <td>BMW</td>\n      <td>чёрный</td>\n      <td>бензин</td>\n      <td>5.0</td>\n      <td>2016.0</td>\n      <td>xDrive35i Luxury</td>\n      <td>автоматическая</td>\n      <td>3.0 LTR</td>\n      <td>306 N12</td>\n      <td>Продаю свой автомобиль BWM X5 2016 года по ПТС...</td>\n      <td>79000.0</td>\n      <td>['[{\"name\": \"Комфорт\", \"values\": [\"Круиз-контр...</td>\n      <td>полный</td>\n      <td>Левый</td>\n      <td>Не требует ремонта</td>\n      <td>2 владельца</td>\n      <td>Оригинал</td>\n      <td>3 года и 7 месяцев</td>\n      <td>https://auto.ru/cars/used/sale/bmw/x5/10981645...</td>\n    </tr>\n    <tr>\n      <th>1</th>\n      <td>седан</td>\n      <td>BMW</td>\n      <td>чёрный</td>\n      <td>бензин</td>\n      <td>4.0</td>\n      <td>2011.0</td>\n      <td></td>\n      <td>автоматическая</td>\n      <td>4.4 LTR</td>\n      <td>407 N12</td>\n      <td>Машина в отличном техническом и внешнем состоя...</td>\n      <td>115000.0</td>\n      <td>['[{\"name\": \"Салон\", \"values\": [\"Тонированные ...</td>\n      <td>полный</td>\n      <td>Левый</td>\n      <td>Не требует ремонта</td>\n      <td>3 или более</td>\n      <td>Дубликат</td>\n      <td>None</td>\n      <td>https://auto.ru/cars/used/sale/bmw/7er/1095055...</td>\n    </tr>\n    <tr>\n      <th>2</th>\n      <td>внедорожник 5 дв.</td>\n      <td>BMW</td>\n      <td>серый</td>\n      <td>бензин</td>\n      <td>5.0</td>\n      <td>2014.0</td>\n      <td>None</td>\n      <td>автоматическая</td>\n      <td>3.0 LTR</td>\n      <td>306 N12</td>\n      <td>Два владельца Крашено левое зад крыло и зад дв...</td>\n      <td>140000.0</td>\n      <td></td>\n      <td>полный</td>\n      <td>Левый</td>\n      <td>Не требует ремонта</td>\n      <td>2 владельца</td>\n      <td>Оригинал</td>\n      <td>None</td>\n      <td>https://auto.ru/cars/used/sale/bmw/x5/10964989...</td>\n    </tr>\n    <tr>\n      <th>4</th>\n      <td>внедорожник 5 дв.</td>\n      <td>BMW</td>\n      <td>чёрный</td>\n      <td>дизель</td>\n      <td>5.0</td>\n      <td>2007.0</td>\n      <td>None</td>\n      <td>автоматическая</td>\n      <td>3.0 LTR</td>\n      <td>235 N12</td>\n      <td>На стоянки не ставлю, от машине не избавляюсь,...</td>\n      <td>250000.0</td>\n      <td></td>\n      <td>полный</td>\n      <td>Левый</td>\n      <td>Не требует ремонта</td>\n      <td>3 или более</td>\n      <td>Оригинал</td>\n      <td>None</td>\n      <td>https://auto.ru/cars/used/sale/bmw/x5/10971235...</td>\n    </tr>\n    <tr>\n      <th>5</th>\n      <td>внедорожник 5 дв.</td>\n      <td>BMW</td>\n      <td>чёрный</td>\n      <td>дизель</td>\n      <td>5.0</td>\n      <td>2018.0</td>\n      <td></td>\n      <td>автоматическая</td>\n      <td>3.0 LTR</td>\n      <td>249 N12</td>\n      <td>Действующая КАСКО  Обслуживание у официального...</td>\n      <td>39135.0</td>\n      <td>['[{\"name\": \"Салон\", \"values\": [\"Тонированные ...</td>\n      <td>полный</td>\n      <td>Левый</td>\n      <td>Не требует ремонта</td>\n      <td>1 владелец</td>\n      <td>Оригинал</td>\n      <td>1 год и 10 месяцев</td>\n      <td>https://auto.ru/cars/used/sale/bmw/x6/10984396...</td>\n    </tr>\n    <tr>\n      <th>...</th>\n      <td>...</td>\n      <td>...</td>\n      <td>...</td>\n      <td>...</td>\n      <td>...</td>\n      <td>...</td>\n      <td>...</td>\n      <td>...</td>\n      <td>...</td>\n      <td>...</td>\n      <td>...</td>\n      <td>...</td>\n      <td>...</td>\n      <td>...</td>\n      <td>...</td>\n      <td>...</td>\n      <td>...</td>\n      <td>...</td>\n      <td>...</td>\n      <td>...</td>\n    </tr>\n    <tr>\n      <th>9687</th>\n      <td>седан</td>\n      <td>BMW</td>\n      <td>чёрный</td>\n      <td>бензин</td>\n      <td>4.0</td>\n      <td>1997.0</td>\n      <td>None</td>\n      <td>механическая</td>\n      <td>1.6 LTR</td>\n      <td>102 N12</td>\n      <td>СРОЧНО Продам свой авто. Ездила максимально ак...</td>\n      <td>280000.0</td>\n      <td></td>\n      <td>задний</td>\n      <td>Левый</td>\n      <td>Не требует ремонта</td>\n      <td>3 или более</td>\n      <td>Оригинал</td>\n      <td>None</td>\n      <td>https://auto.ru/cars/used/sale/bmw/3er/1100407...</td>\n    </tr>\n    <tr>\n      <th>9688</th>\n      <td>внедорожник 5 дв.</td>\n      <td>BMW</td>\n      <td>белый</td>\n      <td>дизель</td>\n      <td>5.0</td>\n      <td>2009.0</td>\n      <td></td>\n      <td>автоматическая</td>\n      <td>3.0 LTR</td>\n      <td>286 N12</td>\n      <td>В продаже BMW X6 в отличном состоянии. - 2009 ...</td>\n      <td>160232.0</td>\n      <td>['[{\"name\": \"Комфорт\", \"values\": [\"Круиз-контр...</td>\n      <td>полный</td>\n      <td>Левый</td>\n      <td>Не требует ремонта</td>\n      <td>2 владельца</td>\n      <td>Оригинал</td>\n      <td>None</td>\n      <td>https://auto.ru/cars/used/sale/bmw/x6/10999842...</td>\n    </tr>\n    <tr>\n      <th>9689</th>\n      <td>седан</td>\n      <td>BMW</td>\n      <td>чёрный</td>\n      <td>дизель</td>\n      <td>4.0</td>\n      <td>2010.0</td>\n      <td>None</td>\n      <td>автоматическая</td>\n      <td>3.0 LTR</td>\n      <td>306 N12</td>\n      <td>В отличном состоянии больше времени стоял , на...</td>\n      <td>82000.0</td>\n      <td></td>\n      <td>полный</td>\n      <td>Левый</td>\n      <td>Не требует ремонта</td>\n      <td>3 или более</td>\n      <td>Оригинал</td>\n      <td>None</td>\n      <td>https://auto.ru/cars/used/sale/bmw/7er/1099783...</td>\n    </tr>\n    <tr>\n      <th>9690</th>\n      <td>внедорожник 5 дв.</td>\n      <td>BMW</td>\n      <td>чёрный</td>\n      <td>бензин</td>\n      <td>5.0</td>\n      <td>2017.0</td>\n      <td></td>\n      <td>автоматическая</td>\n      <td>2.0 LTR</td>\n      <td>192 N12</td>\n      <td>РОЛЬФ - Официальный дилер и Лучший дилер Росси...</td>\n      <td>19700.0</td>\n      <td>['[{\"name\": \"Салон\", \"values\": [\"Комбинированн...</td>\n      <td>полный</td>\n      <td>Левый</td>\n      <td>Не требует ремонта</td>\n      <td>1 владелец</td>\n      <td>Оригинал</td>\n      <td>None</td>\n      <td>https://auto.ru/cars/used/sale/bmw/x1/11003379...</td>\n    </tr>\n    <tr>\n      <th>9691</th>\n      <td>седан</td>\n      <td>BMW</td>\n      <td>серый</td>\n      <td>бензин</td>\n      <td>4.0</td>\n      <td>2006.0</td>\n      <td>None</td>\n      <td>автоматическая</td>\n      <td>2.5 LTR</td>\n      <td>218 N12</td>\n      <td>4 WD ( Полный привод ) Cборка Германия ! * В н...</td>\n      <td>200000.0</td>\n      <td></td>\n      <td>полный</td>\n      <td>Левый</td>\n      <td>Не требует ремонта</td>\n      <td>3 или более</td>\n      <td>Дубликат</td>\n      <td>None</td>\n      <td>https://auto.ru/cars/used/sale/bmw/5er/1100212...</td>\n    </tr>\n  </tbody>\n</table>\n<p>9357 rows × 20 columns</p>\n</div>"
     },
     "metadata": {},
     "execution_count": 101
    }
   ],
   "source": [
    "df_j"
   ]
  },
  {
   "cell_type": "code",
   "execution_count": 102,
   "metadata": {
    "tags": []
   },
   "outputs": [
    {
     "output_type": "stream",
     "name": "stderr",
     "text": "Summarize dataset: 100%|██████████| 35/35 [00:11<00:00,  3.03it/s, Completed]\nGenerate report structure: 100%|██████████| 1/1 [00:04<00:00,  4.95s/it]\nRender HTML: 100%|██████████| 1/1 [00:00<00:00,  1.08it/s]\nExport report to file: 100%|██████████| 1/1 [00:00<00:00, 76.87it/s]\n"
    }
   ],
   "source": [
    "design_report = ProfileReport(df_j)\n",
    "design_report.to_file(\"car_data_output.html\")"
   ]
  },
  {
   "cell_type": "code",
   "execution_count": 650,
   "metadata": {},
   "outputs": [],
   "source": [
    "df = pd.read_csv(path_to_dataset)"
   ]
  },
  {
   "cell_type": "code",
   "execution_count": 651,
   "metadata": {},
   "outputs": [
    {
     "output_type": "execute_result",
     "data": {
      "text/plain": "Index(['bodyType', 'brand', 'color', 'fuelType', 'modelDate', 'name',\n       'numberOfDoors', 'productionDate', 'vehicleConfiguration',\n       'vehicleTransmission', 'engineDisplacement', 'enginePower',\n       'description', 'mileage', 'Комплектация', 'Привод', 'Руль', 'Состояние',\n       'Владельцы', 'ПТС', 'Таможня', 'Владение', 'id'],\n      dtype='object')"
     },
     "metadata": {},
     "execution_count": 651
    }
   ],
   "source": [
    "df.columns"
   ]
  },
  {
   "cell_type": "code",
   "execution_count": 652,
   "metadata": {
    "tags": []
   },
   "outputs": [
    {
     "output_type": "stream",
     "name": "stdout",
     "text": "0       В РОЛЬФ Ясенево представлено более 500 автомоб...\n1       Автомобиль из демонстрационного парка по спец ...\n2                       Машина собиралась под заказ! \\n\\n\n3       АВТОМОБИЛЬ В БЕЗУПРЕЧНОМ ВНЕШНЕМ И ТЕХНИЧЕСКОМ...\n4       Автомобиль не имеет собственников ( физ. лиц) ...\n                              ...                        \n3832    Продаётся BMW 5 F10 Рестайлинг\\n2 бережливых в...\n3833    ✪  ✪  ✪  ✪  ✪  ✪  ✪  ✪  ✪ ✪  ✪  ✪  ✪  ✪  ✪  ✪ ...\n3834    Продам полностью обслуженный автомобиль , сдел...\n3835    Продаю отличный авто. Полностью обслужен. Лучш...\n3836    Максимальная комплектация. 22.09.2019 сделано ...\nName: description, Length: 3837, dtype: object\n"
    }
   ],
   "source": [
    "pprint(df.description,width=200)"
   ]
  },
  {
   "cell_type": "code",
   "execution_count": 653,
   "metadata": {
    "tags": []
   },
   "outputs": [
    {
     "output_type": "execute_result",
     "data": {
      "text/plain": "'[\\'[{\"name\":\"Безопасность\",\"values\":[\"Антипробуксовочная система (ASR)\",\"Система стабилизации (ESP)\",\"Подушка безопасности водителя\",\"Крепление детского кресла (задний ряд) ISOFIX\",\"Подушки безопасности оконные (шторки)\",\"Подушка безопасности пассажира\",\"Подушки безопасности боковые задние\",\"Подушки безопасности боковые\",\"Датчик давления в шинах\",\"Антиблокировочная система (ABS)\",\"Блокировка замков задних дверей\",\"Подушка безопасности для защиты коленей водителя\"]},{\"name\":\"Комфорт\",\"values\":[\"Система «старт-стоп»\",\"Электростеклоподъёмники передние\",\"Мультифункциональное рулевое колесо\",\"Прикуриватель и пепельница\",\"Бортовой компьютер\",\"Усилитель руля\",\"Электропривод зеркал\",\"Электростеклоподъёмники задние\",\"Парктроник передний\",\"Регулировка руля по вылету\",\"Климат-контроль 2-зонный\",\"Электроскладывание зеркал\",\"Парктроник задний\"]},{\"name\":\"Мультимедиа\",\"values\":[\"AUX\",\"USB\",\"Аудиосистема\",\"Bluetooth\"]},{\"name\":\"Обзор\",\"values\":[\"Датчик света\",\"Автоматический корректор фар\",\"Омыватель фар\",\"Датчик дождя\",\"Электрообогрев боковых зеркал\",\"Светодиодные фары\"]},{\"name\":\"Салон\",\"values\":[\"Регулировка передних сидений по высоте\",\"Передний центральный подлокотник\",\"Складывающееся заднее сиденье\",\"Электрорегулировка передних сидений\",\"Тёмный салон\",\"Кожа (Материал салона)\",\"Обогрев рулевого колеса\",\"Подогрев передних сидений\",\"Отделка кожей рулевого колеса\"]},{\"name\":\"Защита от угона\",\"values\":[\"Центральный замок\",\"Иммобилайзер\"]}]\\']'"
     },
     "metadata": {},
     "execution_count": 653
    }
   ],
   "source": [
    "df.Комплектация[0]"
   ]
  },
  {
   "cell_type": "code",
   "execution_count": 654,
   "metadata": {},
   "outputs": [],
   "source": [
    " import ast\n",
    " import json\n",
    " car_options_packs = json.loads(ast.literal_eval(df.Комплектация[0])[0])"
   ]
  },
  {
   "cell_type": "code",
   "execution_count": 655,
   "metadata": {},
   "outputs": [
    {
     "output_type": "execute_result",
     "data": {
      "text/plain": "[{'name': 'Безопасность',\n  'values': ['Антипробуксовочная система (ASR)',\n   'Система стабилизации (ESP)',\n   'Подушка безопасности водителя',\n   'Крепление детского кресла (задний ряд) ISOFIX',\n   'Подушки безопасности оконные (шторки)',\n   'Подушка безопасности пассажира',\n   'Подушки безопасности боковые задние',\n   'Подушки безопасности боковые',\n   'Датчик давления в шинах',\n   'Антиблокировочная система (ABS)',\n   'Блокировка замков задних дверей',\n   'Подушка безопасности для защиты коленей водителя']},\n {'name': 'Комфорт',\n  'values': ['Система «старт-стоп»',\n   'Электростеклоподъёмники передние',\n   'Мультифункциональное рулевое колесо',\n   'Прикуриватель и пепельница',\n   'Бортовой компьютер',\n   'Усилитель руля',\n   'Электропривод зеркал',\n   'Электростеклоподъёмники задние',\n   'Парктроник передний',\n   'Регулировка руля по вылету',\n   'Климат-контроль 2-зонный',\n   'Электроскладывание зеркал',\n   'Парктроник задний']},\n {'name': 'Мультимедиа',\n  'values': ['AUX', 'USB', 'Аудиосистема', 'Bluetooth']},\n {'name': 'Обзор',\n  'values': ['Датчик света',\n   'Автоматический корректор фар',\n   'Омыватель фар',\n   'Датчик дождя',\n   'Электрообогрев боковых зеркал',\n   'Светодиодные фары']},\n {'name': 'Салон',\n  'values': ['Регулировка передних сидений по высоте',\n   'Передний центральный подлокотник',\n   'Складывающееся заднее сиденье',\n   'Электрорегулировка передних сидений',\n   'Тёмный салон',\n   'Кожа (Материал салона)',\n   'Обогрев рулевого колеса',\n   'Подогрев передних сидений',\n   'Отделка кожей рулевого колеса']},\n {'name': 'Защита от угона', 'values': ['Центральный замок', 'Иммобилайзер']}]"
     },
     "metadata": {},
     "execution_count": 655
    }
   ],
   "source": [
    "car_options_packs"
   ]
  },
  {
   "cell_type": "code",
   "execution_count": 656,
   "metadata": {},
   "outputs": [
    {
     "output_type": "execute_result",
     "data": {
      "text/plain": "Index(['bodyType', 'brand', 'color', 'fuelType', 'modelDate', 'name',\n       'numberOfDoors', 'productionDate', 'vehicleConfiguration',\n       'vehicleTransmission', 'engineDisplacement', 'enginePower',\n       'description', 'mileage', 'Комплектация', 'Привод', 'Руль', 'Состояние',\n       'Владельцы', 'ПТС', 'Таможня', 'Владение', 'id'],\n      dtype='object')"
     },
     "metadata": {},
     "execution_count": 656
    }
   ],
   "source": [
    "df.columns"
   ]
  },
  {
   "cell_type": "code",
   "execution_count": 657,
   "metadata": {},
   "outputs": [
    {
     "output_type": "execute_result",
     "data": {
      "text/plain": "               bodyType brand       color fuelType  modelDate  \\\n0                 седан   BMW      чёрный   дизель     2016.0   \n1                 седан   BMW       белый   дизель     2018.0   \n2                 седан   BMW       синий   бензин     2009.0   \n3     внедорожник 5 дв.   BMW       белый   дизель     2014.0   \n4     внедорожник 5 дв.   BMW       синий   дизель     2014.0   \n...                 ...   ...         ...      ...        ...   \n3832              седан   BMW      чёрный   бензин     2013.0   \n3833  внедорожник 5 дв.   BMW      чёрный   дизель     2013.0   \n3834              седан   BMW      чёрный   бензин     2002.0   \n3835              седан   BMW  коричневый   бензин     2009.0   \n3836  внедорожник 5 дв.   BMW      чёрный   бензин     2007.0   \n\n                                   name  numberOfDoors  productionDate  \\\n0               520d 2.0d AT (190 л.с.)            4.0          2017.0   \n1               318d 2.0d AT (150 л.с.)            4.0          2019.0   \n2     550i xDrive 4.4 AT (407 л.с.) 4WD            4.0          2012.0   \n3            30d 3.0d AT (249 л.с.) 4WD            5.0          2015.0   \n4           M50d 3.0d AT (381 л.с.) 4WD            5.0          2019.0   \n...                                 ...            ...             ...   \n3832             520i 2.0 AT (184 л.с.)            4.0          2013.0   \n3833         30d 3.0d AT (249 л.с.) 4WD            5.0          2016.0   \n3834        525xi 2.5 AT (218 л.с.) 4WD            4.0          2006.0   \n3835  528i xDrive 2.0 AT (245 л.с.) 4WD            4.0          2012.0   \n3836          50i 4.4 AT (407 л.с.) 4WD            5.0          2010.0   \n\n               vehicleConfiguration vehicleTransmission  ...   mileage  \\\n0               SEDAN AUTOMATIC 2.0      автоматическая  ...  158836.0   \n1               SEDAN AUTOMATIC 2.0      автоматическая  ...      10.0   \n2               SEDAN AUTOMATIC 4.4      автоматическая  ...  120000.0   \n3     ALLROAD_5_DOORS AUTOMATIC 3.0      автоматическая  ...  111466.0   \n4     ALLROAD_5_DOORS AUTOMATIC 3.0      автоматическая  ...   11891.0   \n...                             ...                 ...  ...       ...   \n3832            SEDAN AUTOMATIC 2.0      автоматическая  ...   98000.0   \n3833  ALLROAD_5_DOORS AUTOMATIC 3.0      автоматическая  ...  169615.0   \n3834            SEDAN AUTOMATIC 2.5      автоматическая  ...  180000.0   \n3835            SEDAN AUTOMATIC 2.0      автоматическая  ...  137500.0   \n3836  ALLROAD_5_DOORS AUTOMATIC 4.4      автоматическая  ...   89905.0   \n\n                                           Комплектация  Привод   Руль  \\\n0     ['[{\"name\":\"Безопасность\",\"values\":[\"Антипробу...  задний  Левый   \n1     ['[{\"name\":\"Комфорт\",\"values\":[\"Круиз-контроль...  задний  Левый   \n2     ['[{\"name\":\"Комфорт\",\"values\":[\"Круиз-контроль...  полный  Левый   \n3     ['[{\"name\":\"Комфорт\",\"values\":[\"Круиз-контроль...  полный  Левый   \n4     ['[{\"name\":\"Комфорт\",\"values\":[\"Круиз-контроль...  полный  Левый   \n...                                                 ...     ...    ...   \n3832  ['[{\"name\":\"Комфорт\",\"values\":[\"Круиз-контроль...  задний  Левый   \n3833  ['[{\"name\":\"Комфорт\",\"values\":[\"Круиз-контроль...  полный  Левый   \n3834  ['[{\"name\":\"Комфорт\",\"values\":[\"Круиз-контроль...  полный  Левый   \n3835  ['[{\"name\":\"Комфорт\",\"values\":[\"Круиз-контроль...  полный  Левый   \n3836  ['[{\"name\":\"Комфорт\",\"values\":[\"Круиз-контроль...  полный  Левый   \n\n               Состояние    Владельцы       ПТС     Таможня  \\\n0     Не требует ремонта   1 владелец  Оригинал  Растаможен   \n1     Не требует ремонта   1 владелец  Оригинал  Растаможен   \n2     Не требует ремонта  2 владельца  Оригинал  Растаможен   \n3     Не требует ремонта  2 владельца  Оригинал  Растаможен   \n4     Не требует ремонта   1 владелец  Оригинал  Растаможен   \n...                  ...          ...       ...         ...   \n3832  Не требует ремонта  3 или более  Оригинал  Растаможен   \n3833  Не требует ремонта   1 владелец  Оригинал  Растаможен   \n3834  Не требует ремонта  3 или более  Оригинал  Растаможен   \n3835  Не требует ремонта  3 или более  Оригинал  Растаможен   \n3836  Не требует ремонта   1 владелец  Оригинал  Растаможен   \n\n                Владение    id  \n0                    NaN     0  \n1                    NaN     1  \n2       7 лет и 2 месяца     2  \n3                    NaN     3  \n4                    NaN     4  \n...                  ...   ...  \n3832                 NaN  3832  \n3833                 NaN  3833  \n3834   1 год и 7 месяцев  3834  \n3835  6 лет и 10 месяцев  3835  \n3836   7 лет и 5 месяцев  3836  \n\n[3837 rows x 23 columns]",
      "text/html": "<div>\n<style scoped>\n    .dataframe tbody tr th:only-of-type {\n        vertical-align: middle;\n    }\n\n    .dataframe tbody tr th {\n        vertical-align: top;\n    }\n\n    .dataframe thead th {\n        text-align: right;\n    }\n</style>\n<table border=\"1\" class=\"dataframe\">\n  <thead>\n    <tr style=\"text-align: right;\">\n      <th></th>\n      <th>bodyType</th>\n      <th>brand</th>\n      <th>color</th>\n      <th>fuelType</th>\n      <th>modelDate</th>\n      <th>name</th>\n      <th>numberOfDoors</th>\n      <th>productionDate</th>\n      <th>vehicleConfiguration</th>\n      <th>vehicleTransmission</th>\n      <th>...</th>\n      <th>mileage</th>\n      <th>Комплектация</th>\n      <th>Привод</th>\n      <th>Руль</th>\n      <th>Состояние</th>\n      <th>Владельцы</th>\n      <th>ПТС</th>\n      <th>Таможня</th>\n      <th>Владение</th>\n      <th>id</th>\n    </tr>\n  </thead>\n  <tbody>\n    <tr>\n      <th>0</th>\n      <td>седан</td>\n      <td>BMW</td>\n      <td>чёрный</td>\n      <td>дизель</td>\n      <td>2016.0</td>\n      <td>520d 2.0d AT (190 л.с.)</td>\n      <td>4.0</td>\n      <td>2017.0</td>\n      <td>SEDAN AUTOMATIC 2.0</td>\n      <td>автоматическая</td>\n      <td>...</td>\n      <td>158836.0</td>\n      <td>['[{\"name\":\"Безопасность\",\"values\":[\"Антипробу...</td>\n      <td>задний</td>\n      <td>Левый</td>\n      <td>Не требует ремонта</td>\n      <td>1 владелец</td>\n      <td>Оригинал</td>\n      <td>Растаможен</td>\n      <td>NaN</td>\n      <td>0</td>\n    </tr>\n    <tr>\n      <th>1</th>\n      <td>седан</td>\n      <td>BMW</td>\n      <td>белый</td>\n      <td>дизель</td>\n      <td>2018.0</td>\n      <td>318d 2.0d AT (150 л.с.)</td>\n      <td>4.0</td>\n      <td>2019.0</td>\n      <td>SEDAN AUTOMATIC 2.0</td>\n      <td>автоматическая</td>\n      <td>...</td>\n      <td>10.0</td>\n      <td>['[{\"name\":\"Комфорт\",\"values\":[\"Круиз-контроль...</td>\n      <td>задний</td>\n      <td>Левый</td>\n      <td>Не требует ремонта</td>\n      <td>1 владелец</td>\n      <td>Оригинал</td>\n      <td>Растаможен</td>\n      <td>NaN</td>\n      <td>1</td>\n    </tr>\n    <tr>\n      <th>2</th>\n      <td>седан</td>\n      <td>BMW</td>\n      <td>синий</td>\n      <td>бензин</td>\n      <td>2009.0</td>\n      <td>550i xDrive 4.4 AT (407 л.с.) 4WD</td>\n      <td>4.0</td>\n      <td>2012.0</td>\n      <td>SEDAN AUTOMATIC 4.4</td>\n      <td>автоматическая</td>\n      <td>...</td>\n      <td>120000.0</td>\n      <td>['[{\"name\":\"Комфорт\",\"values\":[\"Круиз-контроль...</td>\n      <td>полный</td>\n      <td>Левый</td>\n      <td>Не требует ремонта</td>\n      <td>2 владельца</td>\n      <td>Оригинал</td>\n      <td>Растаможен</td>\n      <td>7 лет и 2 месяца</td>\n      <td>2</td>\n    </tr>\n    <tr>\n      <th>3</th>\n      <td>внедорожник 5 дв.</td>\n      <td>BMW</td>\n      <td>белый</td>\n      <td>дизель</td>\n      <td>2014.0</td>\n      <td>30d 3.0d AT (249 л.с.) 4WD</td>\n      <td>5.0</td>\n      <td>2015.0</td>\n      <td>ALLROAD_5_DOORS AUTOMATIC 3.0</td>\n      <td>автоматическая</td>\n      <td>...</td>\n      <td>111466.0</td>\n      <td>['[{\"name\":\"Комфорт\",\"values\":[\"Круиз-контроль...</td>\n      <td>полный</td>\n      <td>Левый</td>\n      <td>Не требует ремонта</td>\n      <td>2 владельца</td>\n      <td>Оригинал</td>\n      <td>Растаможен</td>\n      <td>NaN</td>\n      <td>3</td>\n    </tr>\n    <tr>\n      <th>4</th>\n      <td>внедорожник 5 дв.</td>\n      <td>BMW</td>\n      <td>синий</td>\n      <td>дизель</td>\n      <td>2014.0</td>\n      <td>M50d 3.0d AT (381 л.с.) 4WD</td>\n      <td>5.0</td>\n      <td>2019.0</td>\n      <td>ALLROAD_5_DOORS AUTOMATIC 3.0</td>\n      <td>автоматическая</td>\n      <td>...</td>\n      <td>11891.0</td>\n      <td>['[{\"name\":\"Комфорт\",\"values\":[\"Круиз-контроль...</td>\n      <td>полный</td>\n      <td>Левый</td>\n      <td>Не требует ремонта</td>\n      <td>1 владелец</td>\n      <td>Оригинал</td>\n      <td>Растаможен</td>\n      <td>NaN</td>\n      <td>4</td>\n    </tr>\n    <tr>\n      <th>...</th>\n      <td>...</td>\n      <td>...</td>\n      <td>...</td>\n      <td>...</td>\n      <td>...</td>\n      <td>...</td>\n      <td>...</td>\n      <td>...</td>\n      <td>...</td>\n      <td>...</td>\n      <td>...</td>\n      <td>...</td>\n      <td>...</td>\n      <td>...</td>\n      <td>...</td>\n      <td>...</td>\n      <td>...</td>\n      <td>...</td>\n      <td>...</td>\n      <td>...</td>\n      <td>...</td>\n    </tr>\n    <tr>\n      <th>3832</th>\n      <td>седан</td>\n      <td>BMW</td>\n      <td>чёрный</td>\n      <td>бензин</td>\n      <td>2013.0</td>\n      <td>520i 2.0 AT (184 л.с.)</td>\n      <td>4.0</td>\n      <td>2013.0</td>\n      <td>SEDAN AUTOMATIC 2.0</td>\n      <td>автоматическая</td>\n      <td>...</td>\n      <td>98000.0</td>\n      <td>['[{\"name\":\"Комфорт\",\"values\":[\"Круиз-контроль...</td>\n      <td>задний</td>\n      <td>Левый</td>\n      <td>Не требует ремонта</td>\n      <td>3 или более</td>\n      <td>Оригинал</td>\n      <td>Растаможен</td>\n      <td>NaN</td>\n      <td>3832</td>\n    </tr>\n    <tr>\n      <th>3833</th>\n      <td>внедорожник 5 дв.</td>\n      <td>BMW</td>\n      <td>чёрный</td>\n      <td>дизель</td>\n      <td>2013.0</td>\n      <td>30d 3.0d AT (249 л.с.) 4WD</td>\n      <td>5.0</td>\n      <td>2016.0</td>\n      <td>ALLROAD_5_DOORS AUTOMATIC 3.0</td>\n      <td>автоматическая</td>\n      <td>...</td>\n      <td>169615.0</td>\n      <td>['[{\"name\":\"Комфорт\",\"values\":[\"Круиз-контроль...</td>\n      <td>полный</td>\n      <td>Левый</td>\n      <td>Не требует ремонта</td>\n      <td>1 владелец</td>\n      <td>Оригинал</td>\n      <td>Растаможен</td>\n      <td>NaN</td>\n      <td>3833</td>\n    </tr>\n    <tr>\n      <th>3834</th>\n      <td>седан</td>\n      <td>BMW</td>\n      <td>чёрный</td>\n      <td>бензин</td>\n      <td>2002.0</td>\n      <td>525xi 2.5 AT (218 л.с.) 4WD</td>\n      <td>4.0</td>\n      <td>2006.0</td>\n      <td>SEDAN AUTOMATIC 2.5</td>\n      <td>автоматическая</td>\n      <td>...</td>\n      <td>180000.0</td>\n      <td>['[{\"name\":\"Комфорт\",\"values\":[\"Круиз-контроль...</td>\n      <td>полный</td>\n      <td>Левый</td>\n      <td>Не требует ремонта</td>\n      <td>3 или более</td>\n      <td>Оригинал</td>\n      <td>Растаможен</td>\n      <td>1 год и 7 месяцев</td>\n      <td>3834</td>\n    </tr>\n    <tr>\n      <th>3835</th>\n      <td>седан</td>\n      <td>BMW</td>\n      <td>коричневый</td>\n      <td>бензин</td>\n      <td>2009.0</td>\n      <td>528i xDrive 2.0 AT (245 л.с.) 4WD</td>\n      <td>4.0</td>\n      <td>2012.0</td>\n      <td>SEDAN AUTOMATIC 2.0</td>\n      <td>автоматическая</td>\n      <td>...</td>\n      <td>137500.0</td>\n      <td>['[{\"name\":\"Комфорт\",\"values\":[\"Круиз-контроль...</td>\n      <td>полный</td>\n      <td>Левый</td>\n      <td>Не требует ремонта</td>\n      <td>3 или более</td>\n      <td>Оригинал</td>\n      <td>Растаможен</td>\n      <td>6 лет и 10 месяцев</td>\n      <td>3835</td>\n    </tr>\n    <tr>\n      <th>3836</th>\n      <td>внедорожник 5 дв.</td>\n      <td>BMW</td>\n      <td>чёрный</td>\n      <td>бензин</td>\n      <td>2007.0</td>\n      <td>50i 4.4 AT (407 л.с.) 4WD</td>\n      <td>5.0</td>\n      <td>2010.0</td>\n      <td>ALLROAD_5_DOORS AUTOMATIC 4.4</td>\n      <td>автоматическая</td>\n      <td>...</td>\n      <td>89905.0</td>\n      <td>['[{\"name\":\"Комфорт\",\"values\":[\"Круиз-контроль...</td>\n      <td>полный</td>\n      <td>Левый</td>\n      <td>Не требует ремонта</td>\n      <td>1 владелец</td>\n      <td>Оригинал</td>\n      <td>Растаможен</td>\n      <td>7 лет и 5 месяцев</td>\n      <td>3836</td>\n    </tr>\n  </tbody>\n</table>\n<p>3837 rows × 23 columns</p>\n</div>"
     },
     "metadata": {},
     "execution_count": 657
    }
   ],
   "source": [
    "df"
   ]
  },
  {
   "cell_type": "code",
   "execution_count": null,
   "metadata": {},
   "outputs": [],
   "source": []
  }
 ]
}